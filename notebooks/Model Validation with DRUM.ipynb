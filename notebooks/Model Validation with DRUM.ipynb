{
 "cells": [
  {
   "cell_type": "markdown",
   "metadata": {},
   "source": [
    "#### Let's validate the model using DRUM"
   ]
  },
  {
   "cell_type": "code",
   "execution_count": 1,
   "metadata": {
    "scrolled": true
   },
   "outputs": [
    {
     "name": "stdout",
     "output_type": "stream",
     "text": [
      "Traceback (most recent call last):\n",
      "  File \"/Users/timothy.whittaker/python_envs/odsc/bin/drum\", line 6, in <module>\n",
      "    main()\n",
      "  File \"/Users/timothy.whittaker/python_envs/odsc/lib/python3.7/site-packages/datarobot_drum/drum/main.py\", line 96, in main\n",
      "    CMRunner(runtime).run()\n",
      "  File \"/Users/timothy.whittaker/python_envs/odsc/lib/python3.7/site-packages/datarobot_drum/drum/drum.py\", line 289, in run\n",
      "    self._run_fit_and_predictions_pipelines_in_mlpiper()\n",
      "  File \"/Users/timothy.whittaker/python_envs/odsc/lib/python3.7/site-packages/datarobot_drum/drum/drum.py\", line 541, in _run_fit_and_predictions_pipelines_in_mlpiper\n",
      "    _pipeline_executor.init_pipeline()\n",
      "  File \"/Users/timothy.whittaker/python_envs/odsc/lib/python3.7/site-packages/mlpiper/pipeline/executor.py\", line 257, in init_pipeline\n",
      "    self._init_pipeline()\n",
      "  File \"/Users/timothy.whittaker/python_envs/odsc/lib/python3.7/site-packages/mlpiper/pipeline/executor.py\", line 204, in _init_pipeline\n",
      "    self._init_ml_engine(self.pipeline)\n",
      "  File \"/Users/timothy.whittaker/python_envs/odsc/lib/python3.7/site-packages/mlpiper/pipeline/executor.py\", line 72, in pipeline\n",
      "    self._load_pipeline()\n",
      "  File \"/Users/timothy.whittaker/python_envs/odsc/lib/python3.7/site-packages/mlpiper/pipeline/executor.py\", line 347, in _load_pipeline\n",
      "    self._pipeline = json.loads(self._json_pipeline)\n",
      "  File \"/usr/local/Cellar/python/3.7.7/Frameworks/Python.framework/Versions/3.7/lib/python3.7/json/__init__.py\", line 348, in loads\n",
      "    return _default_decoder.decode(s)\n",
      "  File \"/usr/local/Cellar/python/3.7.7/Frameworks/Python.framework/Versions/3.7/lib/python3.7/json/decoder.py\", line 337, in decode\n",
      "    obj, end = self.raw_decode(s, idx=_w(s, 0).end())\n",
      "  File \"/usr/local/Cellar/python/3.7.7/Frameworks/Python.framework/Versions/3.7/lib/python3.7/json/decoder.py\", line 353, in raw_decode\n",
      "    obj, end = self.scan_once(s, idx)\n",
      "json.decoder.JSONDecodeError: Invalid control character at: line 11 column 108 (char 365)\n"
     ]
    }
   ],
   "source": [
    "!drum validation --code-dir ../src/custom_model --input ../data/boston_housing_test.csv --target-type regression > drum_validation.log"
   ]
  },
  {
   "cell_type": "code",
   "execution_count": 6,
   "metadata": {},
   "outputs": [
    {
     "name": "stdout",
     "output_type": "stream",
     "text": [
      "19       17.690\r\n",
      "\r\n",
      "\r\n",
      "Validation checks results\r\n",
      "      Test case         Status                       Details                    \r\n",
      "================================================================================\r\n",
      "Null value imputation   FAILED   Null value imputation check performs check by  \r\n",
      "                                 imputing each feature with NaN value. If check \r\n",
      "                                 fails for a feature, test dataset is saved in  \r\n",
      "                                 /tmp/drum_validation_checks_. Make sure to     \r\n",
      "                                 delete those folders if it takes too much      \r\n",
      "                                 space.                                         \r\n",
      "                                                                                \r\n",
      "                                 Failed feature                          Dataset\r\n",
      "                                 filename                                       \r\n",
      "                                 ===============================================\r\n",
      "                                 =================================              \r\n",
      "                                 lstat            /tmp/drum_validation_checks_xk\r\n",
      "                                 6ivf_v/null_value_imputation_lsta              \r\n",
      "                                                  t _r6xj5xdr                   \r\n"
     ]
    }
   ],
   "source": [
    "!tail -20 drum_validation.log"
   ]
  },
  {
   "cell_type": "markdown",
   "metadata": {},
   "source": [
    "As you can see, we are getting an error that `ValueError: Failure when making predictions: Input contains NaN, infinity or a value too large for dtype('float32').`\n",
    "\n",
    "Basically, the model is not robust enough to handle null values and while our data does not include any null values, DRUM is checking automatically. To solve this, we are going to add a `custom.py` script within the `custom_model` folder which will fill null values if they are encountered."
   ]
  },
  {
   "cell_type": "markdown",
   "metadata": {},
   "source": [
    "When models don't fit the drop in pattern, we can create custom hooks to hook the model up to drum."
   ]
  },
  {
   "cell_type": "code",
   "execution_count": 10,
   "metadata": {},
   "outputs": [
    {
     "name": "stdout",
     "output_type": "stream",
     "text": [
      "import pandas as pd\r\n",
      "from typing import List, Optional, Any, Dict\r\n",
      "\r\n",
      "# \"\"\"\r\n",
      "# Custom hooks for prediction\r\n",
      "# ---------------------------\r\n",
      "# If drum's standard assumptions are incorrect for your model, **drum** supports several hooks\r\n",
      "# for custom inference code.\r\n",
      "# \"\"\"\r\n",
      "# def init(code_dir : Optional[str], **kwargs) -> None:\r\n"
     ]
    }
   ],
   "source": [
    "!head -10 ../src/custom.py"
   ]
  },
  {
   "cell_type": "markdown",
   "metadata": {},
   "source": [
    "In the code above, we have only created a transform hook which could handle preprocessing including missing value fill in.  "
   ]
  },
  {
   "cell_type": "code",
   "execution_count": 8,
   "metadata": {},
   "outputs": [],
   "source": [
    "!cp ../src/custom.py ../src/custom_model/custom.py"
   ]
  },
  {
   "cell_type": "code",
   "execution_count": 9,
   "metadata": {
    "scrolled": true
   },
   "outputs": [
    {
     "name": "stdout",
     "output_type": "stream",
     "text": [
      "Traceback (most recent call last):\n",
      "  File \"/Users/timothy.whittaker/python_envs/odsc/bin/drum\", line 6, in <module>\n",
      "    main()\n",
      "  File \"/Users/timothy.whittaker/python_envs/odsc/lib/python3.7/site-packages/datarobot_drum/drum/main.py\", line 96, in main\n",
      "    CMRunner(runtime).run()\n",
      "  File \"/Users/timothy.whittaker/python_envs/odsc/lib/python3.7/site-packages/datarobot_drum/drum/drum.py\", line 289, in run\n",
      "    self._run_fit_and_predictions_pipelines_in_mlpiper()\n",
      "  File \"/Users/timothy.whittaker/python_envs/odsc/lib/python3.7/site-packages/datarobot_drum/drum/drum.py\", line 541, in _run_fit_and_predictions_pipelines_in_mlpiper\n",
      "    _pipeline_executor.init_pipeline()\n",
      "  File \"/Users/timothy.whittaker/python_envs/odsc/lib/python3.7/site-packages/mlpiper/pipeline/executor.py\", line 257, in init_pipeline\n",
      "    self._init_pipeline()\n",
      "  File \"/Users/timothy.whittaker/python_envs/odsc/lib/python3.7/site-packages/mlpiper/pipeline/executor.py\", line 204, in _init_pipeline\n",
      "    self._init_ml_engine(self.pipeline)\n",
      "  File \"/Users/timothy.whittaker/python_envs/odsc/lib/python3.7/site-packages/mlpiper/pipeline/executor.py\", line 72, in pipeline\n",
      "    self._load_pipeline()\n",
      "  File \"/Users/timothy.whittaker/python_envs/odsc/lib/python3.7/site-packages/mlpiper/pipeline/executor.py\", line 347, in _load_pipeline\n",
      "    self._pipeline = json.loads(self._json_pipeline)\n",
      "  File \"/usr/local/Cellar/python/3.7.7/Frameworks/Python.framework/Versions/3.7/lib/python3.7/json/__init__.py\", line 348, in loads\n",
      "    return _default_decoder.decode(s)\n",
      "  File \"/usr/local/Cellar/python/3.7.7/Frameworks/Python.framework/Versions/3.7/lib/python3.7/json/decoder.py\", line 337, in decode\n",
      "    obj, end = self.raw_decode(s, idx=_w(s, 0).end())\n",
      "  File \"/usr/local/Cellar/python/3.7.7/Frameworks/Python.framework/Versions/3.7/lib/python3.7/json/decoder.py\", line 353, in raw_decode\n",
      "    obj, end = self.scan_once(s, idx)\n",
      "json.decoder.JSONDecodeError: Invalid control character at: line 11 column 108 (char 365)\n"
     ]
    }
   ],
   "source": [
    "!drum validation --code-dir ../src/custom_model --input ../data/boston_housing_test.csv --target-type regression > drum_validation_2.log"
   ]
  },
  {
   "cell_type": "code",
   "execution_count": 11,
   "metadata": {},
   "outputs": [
    {
     "name": "stdout",
     "output_type": "stream",
     "text": [
      "19       17.690\r\n",
      "\r\n",
      "\r\n",
      "Validation checks results\r\n",
      "      Test case         Status                       Details                    \r\n",
      "================================================================================\r\n",
      "Null value imputation   FAILED   Null value imputation check performs check by  \r\n",
      "                                 imputing each feature with NaN value. If check \r\n",
      "                                 fails for a feature, test dataset is saved in  \r\n",
      "                                 /tmp/drum_validation_checks_. Make sure to     \r\n",
      "                                 delete those folders if it takes too much      \r\n",
      "                                 space.                                         \r\n",
      "                                                                                \r\n",
      "                                 Failed feature                          Dataset\r\n",
      "                                 filename                                       \r\n",
      "                                 ===============================================\r\n",
      "                                 =================================              \r\n",
      "                                 lstat            /tmp/drum_validation_checks_ws\r\n",
      "                                 r78kpv/null_value_imputation_lsta              \r\n",
      "                                                  t _33khrios                   \r\n"
     ]
    }
   ],
   "source": [
    "!tail -20 drum_validation_2.log"
   ]
  },
  {
   "cell_type": "markdown",
   "metadata": {},
   "source": [
    "After moving the `custom.py` file inside the `custom_model` folder, we see that the results come back normally."
   ]
  },
  {
   "cell_type": "code",
   "execution_count": null,
   "metadata": {},
   "outputs": [],
   "source": []
  }
 ],
 "metadata": {
  "kernelspec": {
   "display_name": "Python 3",
   "language": "python",
   "name": "python3"
  },
  "language_info": {
   "codemirror_mode": {
    "name": "ipython",
    "version": 3
   },
   "file_extension": ".py",
   "mimetype": "text/x-python",
   "name": "python",
   "nbconvert_exporter": "python",
   "pygments_lexer": "ipython3",
   "version": "3.7.7"
  }
 },
 "nbformat": 4,
 "nbformat_minor": 2
}
