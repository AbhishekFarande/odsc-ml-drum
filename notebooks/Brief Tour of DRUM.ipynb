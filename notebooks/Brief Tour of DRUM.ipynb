{
 "cells": [
  {
   "cell_type": "markdown",
   "metadata": {},
   "source": [
    "# DRUM\n",
    "\n",
    "About [DRUM](https://github.com/datarobot/datarobot-user-models/tree/master/custom_model_runner)"
   ]
  },
  {
   "cell_type": "markdown",
   "metadata": {},
   "source": [
    "```\n",
    "usage: drum [-h] [--version]\n",
    "            {score,fit,perf-test,validation,server,new,push} ...\n",
    "\n",
    "Run user model\n",
    "\n",
    "positional arguments:\n",
    "  {score,fit,perf-test,validation,server,new,push}\n",
    "                        Commands\n",
    "    score               Run predictions in batch mode\n",
    "    fit                 Fit your model to your data\n",
    "    perf-test           Run performance tests\n",
    "    validation          Run validation checks\n",
    "    server              Run predictions in server\n",
    "    new                 Create new model/env template\n",
    "    push                Add your modeling code into DataRobot\n",
    "\n",
    "optional arguments:\n",
    "  -h, --help            show this help message and exit\n",
    "  --version             show program's version number and exit\n",
    "```"
   ]
  },
  {
   "cell_type": "markdown",
   "metadata": {},
   "source": [
    "## Help"
   ]
  },
  {
   "cell_type": "code",
   "execution_count": 1,
   "metadata": {},
   "outputs": [
    {
     "name": "stdout",
     "output_type": "stream",
     "text": [
      "usage: drum [-h] [--version]\r\n",
      "            {score,fit,perf-test,validation,server,new,push} ...\r\n",
      "\r\n",
      "Run user model\r\n",
      "\r\n",
      "positional arguments:\r\n",
      "  {score,fit,perf-test,validation,server,new,push}\r\n",
      "                        Commands\r\n",
      "    score               Run predictions in batch mode\r\n",
      "    fit                 Fit your model to your data\r\n",
      "    perf-test           Run performance tests\r\n",
      "    validation          Run validation checks\r\n",
      "    server              Run predictions in server\r\n",
      "    new                 Create new model/env template\r\n",
      "    push                Add your modeling code into DataRobot\r\n",
      "\r\n",
      "optional arguments:\r\n",
      "  -h, --help            show this help message and exit\r\n",
      "  --version             show program's version number and exit\r\n"
     ]
    }
   ],
   "source": [
    "!drum --help"
   ]
  },
  {
   "cell_type": "markdown",
   "metadata": {},
   "source": [
    "## New"
   ]
  },
  {
   "cell_type": "code",
   "execution_count": 5,
   "metadata": {},
   "outputs": [
    {
     "name": "stdout",
     "output_type": "stream",
     "text": [
      "usage: drum new [-h] [--verbose]\r\n",
      "                [--logging-level {noset,debug,info,warn,warning,error,critical}]\r\n",
      "                {model} ...\r\n",
      "\r\n",
      "Create new model/env template\r\n",
      "\r\n",
      "positional arguments:\r\n",
      "  {model}               Commands\r\n",
      "    model               Create a new modeling code directory template\r\n",
      "\r\n",
      "optional arguments:\r\n",
      "  -h, --help            show this help message and exit\r\n",
      "  --verbose             Show verbose output\r\n",
      "  --logging-level {noset,debug,info,warn,warning,error,critical}\r\n",
      "                        Logging level to use\r\n"
     ]
    }
   ],
   "source": [
    "!drum new -h"
   ]
  },
  {
   "cell_type": "markdown",
   "metadata": {},
   "source": [
    "Create a new template where you will place model artifacts.  This will generate a custom.py file to aid in adding hooks for you model if necessary"
   ]
  },
  {
   "cell_type": "code",
   "execution_count": 14,
   "metadata": {},
   "outputs": [
    {
     "name": "stdout",
     "output_type": "stream",
     "text": [
      "Detected template generation mode\r\n",
      "2020-10-27 10:53:13,413 DEBUG drum.CMTemplateGenerator:  templates_dir: /Users/timothy.whittaker/odsc-drum-v3/lib/python3.7/site-packages/datarobot_drum/drum/../resource/templates\r\n",
      "2020-10-27 10:53:13,413 DEBUG drum.CMTemplateGenerator:  lang: RunLanguage.PYTHON\r\n",
      "2020-10-27 10:53:13,414 DEBUG drum.CMTemplateGenerator:  Templates are at: /Users/timothy.whittaker/odsc-drum-v3/lib/python3.7/site-packages/datarobot_drum/drum/../resource/templates\r\n",
      "2020-10-27 10:53:13,414 DEBUG drum.CMTemplateGenerator:  vars: {'custom_name': 'custom.py',\r\n",
      " 'gen_command': 'drum new model --language python',\r\n",
      " 'gen_date': 'Tue Oct 27 10:53:13 2020'}\r\n",
      "2020-10-27 10:53:13,419 DEBUG drum.CMTemplateGenerator:  src: /Users/timothy.whittaker/odsc-drum-v3/lib/python3.7/site-packages/datarobot_drum/drum/../resource/templates/custom_python_template.py.j2 dst:/Users/timothy.whittaker/Desktop/git/odsc-ml-drum/src/other_models/new_model_template/custom.py\r\n",
      "2020-10-27 10:53:13,420 DEBUG drum.CMTemplateGenerator:  vars: {'custom_name': 'custom.py',\r\n",
      " 'gen_command': 'drum new model --language python',\r\n",
      " 'gen_date': 'Tue Oct 27 10:53:13 2020'}\r\n"
     ]
    }
   ],
   "source": [
    "!drum new model --code-dir ../src/other_models/new_model_template --language python --verbose --logging-level debug"
   ]
  },
  {
   "cell_type": "markdown",
   "metadata": {},
   "source": [
    "## Fit\n",
    "\n",
    "Fit mode\n",
    "\n",
    "Note: Running fit inside of DataRobot is currently in alpha. Check back soon for the opportunity to test out this functionality yourself.\n",
    "\n",
    "drum can run your training model to make sure it can produce a trained model artifact before adding the training model into DataRobot.\n",
    "\n",
    "Note: If you don't provide class label, DataRobot tries to autodetect the labels for you.\n",
    "\n",
    "You can also use drum on regression datasets, and soon you will also be able to provide row weights. Checkout the drum fit --help output for further details."
   ]
  },
  {
   "cell_type": "code",
   "execution_count": 9,
   "metadata": {},
   "outputs": [
    {
     "name": "stdout",
     "output_type": "stream",
     "text": [
      "\u001b[33mWARNING: You are using pip version 19.2.3, however version 20.2.4 is available.\r\n",
      "You should consider upgrading via the 'pip install --upgrade pip' command.\u001b[0m\r\n"
     ]
    }
   ],
   "source": [
    "# install from pip\n",
    "!pip install sagemaker-scikit-learn-extension -q"
   ]
  },
  {
   "cell_type": "code",
   "execution_count": 13,
   "metadata": {},
   "outputs": [
    {
     "name": "stdout",
     "output_type": "stream",
     "text": [
      "Using TensorFlow backend.\n",
      "Success 🎉\n"
     ]
    }
   ],
   "source": [
    "!drum fit --code-dir ../src/other_models/python3_sklearn_regression --target MEDV --input ../data/boston_housing.csv --output ../src/other_models/drum-fit-model "
   ]
  },
  {
   "cell_type": "markdown",
   "metadata": {},
   "source": [
    "## Perf-tests"
   ]
  },
  {
   "cell_type": "code",
   "execution_count": 31,
   "metadata": {},
   "outputs": [
    {
     "name": "stdout",
     "output_type": "stream",
     "text": [
      "Preparing test data...\n",
      "Traceback (most recent call last):\n",
      "  File \"/Users/timothy.whittaker/odsc-drum-v3/bin/drum\", line 6, in <module>\n",
      "    main()\n",
      "  File \"/Users/timothy.whittaker/odsc-drum-v3/lib/python3.7/site-packages/datarobot_drum/drum/main.py\", line 96, in main\n",
      "    CMRunner(runtime).run()\n",
      "  File \"/Users/timothy.whittaker/odsc-drum-v3/lib/python3.7/site-packages/datarobot_drum/drum/drum.py\", line 293, in run\n",
      "    CMRunTests(self.options, self.run_mode).performance_test()\n",
      "  File \"/Users/timothy.whittaker/odsc-drum-v3/lib/python3.7/site-packages/datarobot_drum/drum/perf_testing.py\", line 297, in performance_test\n",
      "    self._server_process = subprocess.Popen(cmd_list, env=os.environ)\n",
      "  File \"/usr/local/Cellar/python/3.7.7/Frameworks/Python.framework/Versions/3.7/lib/python3.7/subprocess.py\", line 800, in __init__\n",
      "    restore_signals, start_new_session)\n",
      "  File \"/usr/local/Cellar/python/3.7.7/Frameworks/Python.framework/Versions/3.7/lib/python3.7/subprocess.py\", line 1482, in _execute_child\n",
      "    restore_signals, start_new_session, preexec_fn)\n",
      "TypeError: expected str, bytes or os.PathLike object, not NoneType\n"
     ]
    }
   ],
   "source": [
    "!drum perf-test -cd ../src/other_models/drum-fit-model --input ../data/boston_housing_inference.csv --show-stacktrace"
   ]
  },
  {
   "cell_type": "markdown",
   "metadata": {},
   "source": [
    "## Validation"
   ]
  },
  {
   "cell_type": "code",
   "execution_count": 20,
   "metadata": {
    "scrolled": true
   },
   "outputs": [
    {
     "name": "stdout",
     "output_type": "stream",
     "text": [
      "Using TensorFlow backend.\n",
      "/Users/timothy.whittaker/odsc-drum-v3/lib/python3.7/site-packages/sklearn/compose/_column_transformer.py:440: FutureWarning: Given feature/column names or counts do not match the ones for the data given during fit. This will fail from v0.24.\n",
      "  FutureWarning)\n",
      "Using TensorFlow backend.\n",
      "/Users/timothy.whittaker/odsc-drum-v3/lib/python3.7/site-packages/sklearn/compose/_column_transformer.py:440: FutureWarning: Given feature/column names or counts do not match the ones for the data given during fit. This will fail from v0.24.\n",
      "  FutureWarning)\n",
      "Using TensorFlow backend.\n",
      "/Users/timothy.whittaker/odsc-drum-v3/lib/python3.7/site-packages/sklearn/compose/_column_transformer.py:440: FutureWarning: Given feature/column names or counts do not match the ones for the data given during fit. This will fail from v0.24.\n",
      "  FutureWarning)\n",
      "Using TensorFlow backend.\n",
      "/Users/timothy.whittaker/odsc-drum-v3/lib/python3.7/site-packages/sklearn/compose/_column_transformer.py:440: FutureWarning: Given feature/column names or counts do not match the ones for the data given during fit. This will fail from v0.24.\n",
      "  FutureWarning)\n",
      "Using TensorFlow backend.\n",
      "/Users/timothy.whittaker/odsc-drum-v3/lib/python3.7/site-packages/sklearn/compose/_column_transformer.py:440: FutureWarning: Given feature/column names or counts do not match the ones for the data given during fit. This will fail from v0.24.\n",
      "  FutureWarning)\n",
      "Using TensorFlow backend.\n",
      "/Users/timothy.whittaker/odsc-drum-v3/lib/python3.7/site-packages/sklearn/compose/_column_transformer.py:440: FutureWarning: Given feature/column names or counts do not match the ones for the data given during fit. This will fail from v0.24.\n",
      "  FutureWarning)\n",
      "Using TensorFlow backend.\n",
      "/Users/timothy.whittaker/odsc-drum-v3/lib/python3.7/site-packages/sklearn/compose/_column_transformer.py:440: FutureWarning: Given feature/column names or counts do not match the ones for the data given during fit. This will fail from v0.24.\n",
      "  FutureWarning)\n",
      "Using TensorFlow backend.\n",
      "/Users/timothy.whittaker/odsc-drum-v3/lib/python3.7/site-packages/sklearn/compose/_column_transformer.py:440: FutureWarning: Given feature/column names or counts do not match the ones for the data given during fit. This will fail from v0.24.\n",
      "  FutureWarning)\n",
      "Using TensorFlow backend.\n",
      "/Users/timothy.whittaker/odsc-drum-v3/lib/python3.7/site-packages/sklearn/compose/_column_transformer.py:440: FutureWarning: Given feature/column names or counts do not match the ones for the data given during fit. This will fail from v0.24.\n",
      "  FutureWarning)\n",
      "Using TensorFlow backend.\n",
      "/Users/timothy.whittaker/odsc-drum-v3/lib/python3.7/site-packages/sklearn/compose/_column_transformer.py:440: FutureWarning: Given feature/column names or counts do not match the ones for the data given during fit. This will fail from v0.24.\n",
      "  FutureWarning)\n",
      "Using TensorFlow backend.\n",
      "/Users/timothy.whittaker/odsc-drum-v3/lib/python3.7/site-packages/sklearn/compose/_column_transformer.py:440: FutureWarning: Given feature/column names or counts do not match the ones for the data given during fit. This will fail from v0.24.\n",
      "  FutureWarning)\n",
      "Using TensorFlow backend.\n",
      "/Users/timothy.whittaker/odsc-drum-v3/lib/python3.7/site-packages/sklearn/compose/_column_transformer.py:440: FutureWarning: Given feature/column names or counts do not match the ones for the data given during fit. This will fail from v0.24.\n",
      "  FutureWarning)\n",
      "Using TensorFlow backend.\n",
      "/Users/timothy.whittaker/odsc-drum-v3/lib/python3.7/site-packages/sklearn/compose/_column_transformer.py:440: FutureWarning: Given feature/column names or counts do not match the ones for the data given during fit. This will fail from v0.24.\n",
      "  FutureWarning)\n",
      "Using TensorFlow backend.\n",
      "/Users/timothy.whittaker/odsc-drum-v3/lib/python3.7/site-packages/sklearn/compose/_column_transformer.py:440: FutureWarning: Given feature/column names or counts do not match the ones for the data given during fit. This will fail from v0.24.\n",
      "  FutureWarning)\n"
     ]
    }
   ],
   "source": [
    "!drum validation --code-dir ../src/other_models/drum-fit-model --input ../data/boston_housing.csv --target-type regression > drum_validation.log\n"
   ]
  },
  {
   "cell_type": "code",
   "execution_count": 22,
   "metadata": {},
   "outputs": [
    {
     "name": "stdout",
     "output_type": "stream",
     "text": [
      "     Predictions\r\n",
      "0      30.522568\r\n",
      "1      24.560272\r\n",
      "2      30.692869\r\n",
      "3      29.985301\r\n",
      "4      29.225193\r\n",
      "..           ...\r\n",
      "501    24.361584\r\n",
      "502    22.930635\r\n",
      "503    28.721774\r\n",
      "504    27.304425\r\n",
      "505    23.196687\r\n",
      "\r\n",
      "[506 rows x 1 columns]\r\n",
      "\r\n",
      "\r\n",
      "Validation checks results\r\n",
      "      Test case         Status\r\n",
      "==============================\r\n",
      "Null value imputation   PASSED\r\n"
     ]
    }
   ],
   "source": [
    "!tail -20 drum_validation.log"
   ]
  },
  {
   "cell_type": "markdown",
   "metadata": {},
   "source": [
    "## Score\n",
    "\n",
    "Score the data in batch model"
   ]
  },
  {
   "cell_type": "code",
   "execution_count": 24,
   "metadata": {},
   "outputs": [
    {
     "name": "stdout",
     "output_type": "stream",
     "text": [
      "Detected score mode\n",
      "Detected /Users/timothy.whittaker/Desktop/git/odsc-ml-drum/src/other_models/drum-fit-model/custom.py .. trying to load hooks\n",
      "Using TensorFlow backend.\n",
      "\u001b[32m \u001b[0m\n",
      "\u001b[32m \u001b[0m\n",
      "\u001b[32m============================================================\u001b[0m\n",
      "\u001b[32mComponent: generic_predictor\u001b[0m\n",
      "\u001b[32mLanguage:  Python\u001b[0m\n",
      "\u001b[32mOutput:\u001b[0m\n",
      "\u001b[32m------------------------------------------------------------\u001b[0m\n",
      "\u001b[32m------------------------------------------------------------\u001b[0m\n",
      "\u001b[32mRuntime:    0.0 sec\u001b[0m\n",
      "\u001b[32mNR outputs: 0\u001b[0m\n",
      "\u001b[32m============================================================\u001b[0m\n",
      "\u001b[32m \u001b[0m\n",
      "   Predictions\n",
      "0    30.522568\n",
      "1    24.560272\n",
      "2    30.692869\n",
      "3    29.985301\n",
      "4    29.225193\n",
      "5    26.322876\n",
      "6    22.370245\n",
      "7    18.959008\n",
      "8    10.061568\n"
     ]
    }
   ],
   "source": [
    "!drum score --code-dir ../src/other_models/drum-fit-model --input ../data/boston_housing_inference.csv --target-type regression --verbose\n"
   ]
  },
  {
   "cell_type": "markdown",
   "metadata": {},
   "source": [
    "## Server\n",
    "\n",
    "This will be covered in main notebook"
   ]
  },
  {
   "cell_type": "code",
   "execution_count": 25,
   "metadata": {},
   "outputs": [
    {
     "name": "stdout",
     "output_type": "stream",
     "text": [
      "Using TensorFlow backend.\n",
      "^C\n"
     ]
    }
   ],
   "source": [
    "!drum server --code-dir ../src/other_models/drum-fit-model --address localhost:1234 \n"
   ]
  },
  {
   "cell_type": "markdown",
   "metadata": {},
   "source": [
    "before interupting the kernel, [ping the model](http://localhost:1234)"
   ]
  },
  {
   "cell_type": "code",
   "execution_count": null,
   "metadata": {},
   "outputs": [],
   "source": []
  }
 ],
 "metadata": {
  "kernelspec": {
   "display_name": "Python 3",
   "language": "python",
   "name": "python3"
  },
  "language_info": {
   "codemirror_mode": {
    "name": "ipython",
    "version": 3
   },
   "file_extension": ".py",
   "mimetype": "text/x-python",
   "name": "python",
   "nbconvert_exporter": "python",
   "pygments_lexer": "ipython3",
   "version": "3.7.7"
  }
 },
 "nbformat": 4,
 "nbformat_minor": 2
}
