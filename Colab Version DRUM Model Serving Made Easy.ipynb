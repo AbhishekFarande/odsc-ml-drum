{
  "nbformat": 4,
  "nbformat_minor": 0,
  "metadata": {
    "accelerator": "GPU",
    "colab": {
      "name": "DRUM - Automated Model Serving Made Easy.ipynb",
      "provenance": [],
      "collapsed_sections": [],
      "include_colab_link": true
    },
    "kernelspec": {
      "display_name": "Python 3",
      "language": "python",
      "name": "python3"
    },
    "language_info": {
      "codemirror_mode": {
        "name": "ipython",
        "version": 3
      },
      "file_extension": ".py",
      "mimetype": "text/x-python",
      "name": "python",
      "nbconvert_exporter": "python",
      "pygments_lexer": "ipython3",
      "version": "3.7.7"
    }
  },
  "cells": [
    {
      "cell_type": "markdown",
      "metadata": {
        "id": "view-in-github",
        "colab_type": "text"
      },
      "source": [
        "<a href=\"https://colab.research.google.com/github/timsetsfire/odsc-ml-drum/blob/main/Colab%20Version%20DRUM%20Model%20Serving%20Made%20Easy.ipynb\" target=\"_parent\"><img src=\"https://colab.research.google.com/assets/colab-badge.svg\" alt=\"Open In Colab\"/></a>"
      ]
    },
    {
      "cell_type": "markdown",
      "metadata": {
        "id": "VLxOyJ2xMrlL"
      },
      "source": [
        "# DRUM - Automated Model Serving Made Easy"
      ]
    },
    {
      "cell_type": "markdown",
      "metadata": {
        "id": "_OUbruxUMrlM"
      },
      "source": [
        " We'll get our hands dirty by \n",
        "\n",
        "* Building a simple regression model using Scikit\n",
        "* Using DRUM for Batch Scoring\n",
        "* Using DRUM to get a REST API endpoint\n",
        "* Show a simple example app connected to the REST API\n",
        "* H2O, Keras, XGBoost, and DataRobot\n",
        "* Add a DataRobot remote agent if you are interested in further model monitoring\n"
      ]
    },
    {
      "cell_type": "markdown",
      "metadata": {
        "id": "ykjnP6-ZMrlM"
      },
      "source": [
        "## Build a Model"
      ]
    },
    {
      "cell_type": "code",
      "metadata": {
        "id": "-IDgpv8NMs7r",
        "outputId": "28b676ab-a061-466f-a870-61efd97b9c1a",
        "colab": {
          "base_uri": "https://localhost:8080/"
        }
      },
      "source": [
        "!git clone https://github.com/timsetsfire/odsc-ml-drum.git"
      ],
      "execution_count": 1,
      "outputs": [
        {
          "output_type": "stream",
          "text": [
            "Cloning into 'odsc-ml-drum'...\n",
            "remote: Enumerating objects: 173, done.\u001b[K\n",
            "remote: Counting objects: 100% (173/173), done.\u001b[K\n",
            "remote: Compressing objects: 100% (144/144), done.\u001b[K\n",
            "remote: Total 345 (delta 80), reused 76 (delta 27), pack-reused 172\u001b[K\n",
            "Receiving objects: 100% (345/345), 77.41 MiB | 37.13 MiB/s, done.\n",
            "Resolving deltas: 100% (147/147), done.\n"
          ],
          "name": "stdout"
        }
      ]
    },
    {
      "cell_type": "code",
      "metadata": {
        "id": "C03KDjg6M4Zc",
        "outputId": "a0fa385b-15ff-4699-8083-5a7896987fda",
        "colab": {
          "base_uri": "https://localhost:8080/"
        }
      },
      "source": [
        "!cat /content/odsc-ml-drum/colab-requirements.txt | sed -e '/^\\s*#.*$/d' -e '/^\\s*$/d' | xargs -n 1 pip install"
      ],
      "execution_count": 2,
      "outputs": [
        {
          "output_type": "stream",
          "text": [
            "Collecting datarobot==2.21.3\n",
            "\u001b[?25l  Downloading https://files.pythonhosted.org/packages/72/52/af0a431d93aefc377a5c9ff467e064068bb85a5fc8edfd0de0c2cb1528e0/datarobot-2.21.3-py3-none-any.whl (266kB)\n",
            "\u001b[K     |████████████████████████████████| 276kB 5.7MB/s \n",
            "\u001b[?25hCollecting trafaret!=1.1.0,<2.0,>=0.7\n",
            "  Downloading https://files.pythonhosted.org/packages/02/59/b502446f3985a9351ea4bfca4e90471668206d3a957e5e2ea256fc3d9d35/trafaret-1.2.0-py3-none-any.whl\n",
            "Requirement already satisfied: pandas>=0.15 in /usr/local/lib/python3.6/dist-packages (from datarobot==2.21.3) (1.1.3)\n",
            "Requirement already satisfied: requests>=2.21 in /usr/local/lib/python3.6/dist-packages (from datarobot==2.21.3) (2.23.0)\n",
            "Requirement already satisfied: contextlib2>=0.5.5 in /usr/local/lib/python3.6/dist-packages (from datarobot==2.21.3) (0.5.5)\n",
            "Requirement already satisfied: urllib3>=1.23 in /usr/local/lib/python3.6/dist-packages (from datarobot==2.21.3) (1.24.3)\n",
            "Collecting attrs<20.0,>=19.1.0\n",
            "  Downloading https://files.pythonhosted.org/packages/a2/db/4313ab3be961f7a763066401fb77f7748373b6094076ae2bda2806988af6/attrs-19.3.0-py2.py3-none-any.whl\n",
            "Requirement already satisfied: pyyaml>=3.11 in /usr/local/lib/python3.6/dist-packages (from datarobot==2.21.3) (3.13)\n",
            "Collecting requests-toolbelt>=0.6\n",
            "\u001b[?25l  Downloading https://files.pythonhosted.org/packages/60/ef/7681134338fc097acef8d9b2f8abe0458e4d87559c689a8c306d0957ece5/requests_toolbelt-0.9.1-py2.py3-none-any.whl (54kB)\n",
            "\u001b[K     |████████████████████████████████| 61kB 9.4MB/s \n",
            "\u001b[?25hRequirement already satisfied: python-dateutil>=2.7.3 in /usr/local/lib/python3.6/dist-packages (from pandas>=0.15->datarobot==2.21.3) (2.8.1)\n",
            "Requirement already satisfied: numpy>=1.15.4 in /usr/local/lib/python3.6/dist-packages (from pandas>=0.15->datarobot==2.21.3) (1.18.5)\n",
            "Requirement already satisfied: pytz>=2017.2 in /usr/local/lib/python3.6/dist-packages (from pandas>=0.15->datarobot==2.21.3) (2018.9)\n",
            "Requirement already satisfied: chardet<4,>=3.0.2 in /usr/local/lib/python3.6/dist-packages (from requests>=2.21->datarobot==2.21.3) (3.0.4)\n",
            "Requirement already satisfied: certifi>=2017.4.17 in /usr/local/lib/python3.6/dist-packages (from requests>=2.21->datarobot==2.21.3) (2020.6.20)\n",
            "Requirement already satisfied: idna<3,>=2.5 in /usr/local/lib/python3.6/dist-packages (from requests>=2.21->datarobot==2.21.3) (2.10)\n",
            "Requirement already satisfied: six>=1.5 in /usr/local/lib/python3.6/dist-packages (from python-dateutil>=2.7.3->pandas>=0.15->datarobot==2.21.3) (1.15.0)\n",
            "\u001b[31mERROR: datascience 0.10.6 has requirement folium==0.2.1, but you'll have folium 0.8.3 which is incompatible.\u001b[0m\n",
            "Installing collected packages: trafaret, attrs, requests-toolbelt, datarobot\n",
            "  Found existing installation: attrs 20.2.0\n",
            "    Uninstalling attrs-20.2.0:\n",
            "      Successfully uninstalled attrs-20.2.0\n",
            "Successfully installed attrs-19.3.0 datarobot-2.21.3 requests-toolbelt-0.9.1 trafaret-1.2.0\n",
            "Collecting datarobot-drum==1.3.0\n",
            "\u001b[?25l  Downloading https://files.pythonhosted.org/packages/fb/7d/e73d38ab09c9271ae3b29ac652d0e8b61efdd02293b826c1f974946e1e06/datarobot_drum-1.3.0-py3-none-any.whl (8.6MB)\n",
            "\u001b[K     |████████████████████████████████| 8.7MB 5.1MB/s \n",
            "\u001b[?25hCollecting py4j~=0.10.9.0\n",
            "\u001b[?25l  Downloading https://files.pythonhosted.org/packages/30/42/25ad191f311fcdb38b750d49de167abd535e37a144e730a80d7c439d1751/py4j-0.10.9.1-py2.py3-none-any.whl (198kB)\n",
            "\u001b[K     |████████████████████████████████| 204kB 50.8MB/s \n",
            "\u001b[?25hRequirement already satisfied: requests in /usr/local/lib/python3.6/dist-packages (from datarobot-drum==1.3.0) (2.23.0)\n",
            "Collecting mlpiper~=2.3.0\n",
            "\u001b[?25l  Downloading https://files.pythonhosted.org/packages/88/32/4f8980d93031f58af0517f7b64cb1eaa3431a0e2a87fe51534ef2b9de168/mlpiper-2.3.3-py2.py3-none-any.whl (781kB)\n",
            "\u001b[K     |████████████████████████████████| 788kB 49.2MB/s \n",
            "\u001b[?25hRequirement already satisfied: datarobot==2.21.3 in /usr/local/lib/python3.6/dist-packages (from datarobot-drum==1.3.0) (2.21.3)\n",
            "Requirement already satisfied: flask in /usr/local/lib/python3.6/dist-packages (from datarobot-drum==1.3.0) (1.1.2)\n",
            "Requirement already satisfied: numpy in /usr/local/lib/python3.6/dist-packages (from datarobot-drum==1.3.0) (1.18.5)\n",
            "Collecting progress\n",
            "  Downloading https://files.pythonhosted.org/packages/38/ef/2e887b3d2b248916fc2121889ce68af8a16aaddbe82f9ae6533c24ff0d2b/progress-1.5.tar.gz\n",
            "Collecting memory-profiler<1.0.0\n",
            "  Downloading https://files.pythonhosted.org/packages/8f/fd/d92b3295657f8837e0177e7b48b32d6651436f0293af42b76d134c3bb489/memory_profiler-0.58.0.tar.gz\n",
            "Collecting docker>=4.2.2<5.0.0\n",
            "\u001b[?25l  Downloading https://files.pythonhosted.org/packages/9e/8c/8d42dbd83679483db207535f4fb02dc84325fa78b290f057694b057fcd21/docker-4.3.1-py2.py3-none-any.whl (145kB)\n",
            "\u001b[K     |████████████████████████████████| 153kB 52.3MB/s \n",
            "\u001b[?25hRequirement already satisfied: jinja2 in /usr/local/lib/python3.6/dist-packages (from datarobot-drum==1.3.0) (2.11.2)\n",
            "Collecting argcomplete==1.11.1\n",
            "  Downloading https://files.pythonhosted.org/packages/82/7d/455e149c28c320044cb763c23af375bd77d52baca041f611f5c2b4865cf4/argcomplete-1.11.1-py2.py3-none-any.whl\n",
            "Collecting strictyaml==1.0.6\n",
            "\u001b[?25l  Downloading https://files.pythonhosted.org/packages/40/97/e8e62cc00aafc52aeffc7cbe3f90d15f8edd4bfe539346fe7eb505a7e1b8/strictyaml-1.0.6.tar.gz (47kB)\n",
            "\u001b[K     |████████████████████████████████| 51kB 9.2MB/s \n",
            "\u001b[?25hRequirement already satisfied: pandas in /usr/local/lib/python3.6/dist-packages (from datarobot-drum==1.3.0) (1.1.3)\n",
            "Collecting texttable\n",
            "  Downloading https://files.pythonhosted.org/packages/06/f5/46201c428aebe0eecfa83df66bf3e6caa29659dbac5a56ddfd83cae0d4a4/texttable-1.6.3-py2.py3-none-any.whl\n",
            "Requirement already satisfied: urllib3!=1.25.0,!=1.25.1,<1.26,>=1.21.1 in /usr/local/lib/python3.6/dist-packages (from requests->datarobot-drum==1.3.0) (1.24.3)\n",
            "Requirement already satisfied: certifi>=2017.4.17 in /usr/local/lib/python3.6/dist-packages (from requests->datarobot-drum==1.3.0) (2020.6.20)\n",
            "Requirement already satisfied: chardet<4,>=3.0.2 in /usr/local/lib/python3.6/dist-packages (from requests->datarobot-drum==1.3.0) (3.0.4)\n",
            "Requirement already satisfied: idna<3,>=2.5 in /usr/local/lib/python3.6/dist-packages (from requests->datarobot-drum==1.3.0) (2.10)\n",
            "Requirement already satisfied: psutil in /usr/local/lib/python3.6/dist-packages (from mlpiper~=2.3.0->datarobot-drum==1.3.0) (5.4.8)\n",
            "Collecting uwsgi; sys_platform != \"win32\"\n",
            "\u001b[?25l  Downloading https://files.pythonhosted.org/packages/c7/75/45234f7b441c59b1eefd31ba3d1041a7e3c89602af24488e2a22e11e7259/uWSGI-2.0.19.1.tar.gz (803kB)\n",
            "\u001b[K     |████████████████████████████████| 808kB 50.3MB/s \n",
            "\u001b[?25hCollecting flask-cors\n",
            "  Downloading https://files.pythonhosted.org/packages/69/7f/d0aeaaafb5c3c76c8d2141dbe2d4f6dca5d6c31872d4e5349768c1958abc/Flask_Cors-3.0.9-py2.py3-none-any.whl\n",
            "Requirement already satisfied: termcolor in /usr/local/lib/python3.6/dist-packages (from mlpiper~=2.3.0->datarobot-drum==1.3.0) (1.1.0)\n",
            "Requirement already satisfied: future in /usr/local/lib/python3.6/dist-packages (from mlpiper~=2.3.0->datarobot-drum==1.3.0) (0.16.0)\n",
            "Requirement already satisfied: pyyaml>=3.11 in /usr/local/lib/python3.6/dist-packages (from datarobot==2.21.3->datarobot-drum==1.3.0) (3.13)\n",
            "Requirement already satisfied: trafaret!=1.1.0,<2.0,>=0.7 in /usr/local/lib/python3.6/dist-packages (from datarobot==2.21.3->datarobot-drum==1.3.0) (1.2.0)\n",
            "Requirement already satisfied: contextlib2>=0.5.5 in /usr/local/lib/python3.6/dist-packages (from datarobot==2.21.3->datarobot-drum==1.3.0) (0.5.5)\n",
            "Requirement already satisfied: requests-toolbelt>=0.6 in /usr/local/lib/python3.6/dist-packages (from datarobot==2.21.3->datarobot-drum==1.3.0) (0.9.1)\n",
            "Requirement already satisfied: attrs<20.0,>=19.1.0 in /usr/local/lib/python3.6/dist-packages (from datarobot==2.21.3->datarobot-drum==1.3.0) (19.3.0)\n",
            "Requirement already satisfied: Werkzeug>=0.15 in /usr/local/lib/python3.6/dist-packages (from flask->datarobot-drum==1.3.0) (1.0.1)\n",
            "Requirement already satisfied: click>=5.1 in /usr/local/lib/python3.6/dist-packages (from flask->datarobot-drum==1.3.0) (7.1.2)\n",
            "Requirement already satisfied: itsdangerous>=0.24 in /usr/local/lib/python3.6/dist-packages (from flask->datarobot-drum==1.3.0) (1.1.0)\n",
            "Collecting websocket-client>=0.32.0\n",
            "\u001b[?25l  Downloading https://files.pythonhosted.org/packages/4c/5f/f61b420143ed1c8dc69f9eaec5ff1ac36109d52c80de49d66e0c36c3dfdf/websocket_client-0.57.0-py2.py3-none-any.whl (200kB)\n",
            "\u001b[K     |████████████████████████████████| 204kB 51.3MB/s \n",
            "\u001b[?25hRequirement already satisfied: six>=1.4.0 in /usr/local/lib/python3.6/dist-packages (from docker>=4.2.2<5.0.0->datarobot-drum==1.3.0) (1.15.0)\n",
            "Requirement already satisfied: MarkupSafe>=0.23 in /usr/local/lib/python3.6/dist-packages (from jinja2->datarobot-drum==1.3.0) (1.1.1)\n",
            "Collecting importlib-metadata<2,>=0.23; python_version == \"3.6\"\n",
            "  Downloading https://files.pythonhosted.org/packages/8e/58/cdea07eb51fc2b906db0968a94700866fc46249bdc75cac23f9d13168929/importlib_metadata-1.7.0-py2.py3-none-any.whl\n",
            "Collecting ruamel.yaml>=0.14.2\n",
            "\u001b[?25l  Downloading https://files.pythonhosted.org/packages/7e/39/186f14f3836ac5d2a6a042c8de69988770e8b9abb537610edc429e4914aa/ruamel.yaml-0.16.12-py2.py3-none-any.whl (111kB)\n",
            "\u001b[K     |████████████████████████████████| 112kB 58.3MB/s \n",
            "\u001b[?25hRequirement already satisfied: python-dateutil>=2.6.0 in /usr/local/lib/python3.6/dist-packages (from strictyaml==1.0.6->datarobot-drum==1.3.0) (2.8.1)\n",
            "Requirement already satisfied: pytz>=2017.2 in /usr/local/lib/python3.6/dist-packages (from pandas->datarobot-drum==1.3.0) (2018.9)\n",
            "Requirement already satisfied: zipp>=0.5 in /usr/local/lib/python3.6/dist-packages (from importlib-metadata<2,>=0.23; python_version == \"3.6\"->argcomplete==1.11.1->datarobot-drum==1.3.0) (3.3.1)\n",
            "Collecting ruamel.yaml.clib>=0.1.2; platform_python_implementation == \"CPython\" and python_version < \"3.9\"\n",
            "\u001b[?25l  Downloading https://files.pythonhosted.org/packages/88/ff/ec25dc01ef04232a9e68ff18492e37dfa01f1f58172e702ad4f38536d41b/ruamel.yaml.clib-0.2.2-cp36-cp36m-manylinux1_x86_64.whl (549kB)\n",
            "\u001b[K     |████████████████████████████████| 552kB 53.4MB/s \n",
            "\u001b[?25hBuilding wheels for collected packages: progress, memory-profiler, strictyaml, uwsgi\n",
            "  Building wheel for progress (setup.py) ... \u001b[?25l\u001b[?25hdone\n",
            "  Created wheel for progress: filename=progress-1.5-cp36-none-any.whl size=8074 sha256=a97910c2f92839fde6539959249220fbae95cb6f64be5554f95159bd9225502a\n",
            "  Stored in directory: /root/.cache/pip/wheels/6c/c8/80/32a294e3041f006c661838c05a411c7b7ffc60ff939d14e116\n",
            "  Building wheel for memory-profiler (setup.py) ... \u001b[?25l\u001b[?25hdone\n",
            "  Created wheel for memory-profiler: filename=memory_profiler-0.58.0-cp36-none-any.whl size=30181 sha256=2c7236d5833ea835d1e0e38c1da65930ca1c1a174e84e28012a2d4cf2b08f6b3\n",
            "  Stored in directory: /root/.cache/pip/wheels/02/e4/0b/aaab481fc5dd2a4ea59e78bc7231bb6aae7635ca7ee79f8ae5\n",
            "  Building wheel for strictyaml (setup.py) ... \u001b[?25l\u001b[?25hdone\n",
            "  Created wheel for strictyaml: filename=strictyaml-1.0.6-cp36-none-any.whl size=25273 sha256=8f29bad33ed907bac71ff26cf91404638968570a0b188edaa892f23eaffc24ed\n",
            "  Stored in directory: /root/.cache/pip/wheels/b8/db/4d/deb821b0efddef300d0788a44daa2fd5cefd886789ab8e0027\n",
            "  Building wheel for uwsgi (setup.py) ... \u001b[?25l\u001b[?25hdone\n",
            "  Created wheel for uwsgi: filename=uWSGI-2.0.19.1-cp36-cp36m-linux_x86_64.whl size=597489 sha256=18d92e3fcec7cad526d8147364ccd015175705ea42cd93a4a7e7aa4926b2791e\n",
            "  Stored in directory: /root/.cache/pip/wheels/62/71/3d/24020be7a7ea936a375cf6144285eb3b5a5ed79cc694f247c0\n",
            "Successfully built progress memory-profiler strictyaml uwsgi\n",
            "Installing collected packages: py4j, uwsgi, flask-cors, mlpiper, progress, memory-profiler, websocket-client, docker, importlib-metadata, argcomplete, ruamel.yaml.clib, ruamel.yaml, strictyaml, texttable, datarobot-drum\n",
            "  Found existing installation: importlib-metadata 2.0.0\n",
            "    Uninstalling importlib-metadata-2.0.0:\n",
            "      Successfully uninstalled importlib-metadata-2.0.0\n",
            "Successfully installed argcomplete-1.11.1 datarobot-drum-1.3.0 docker-4.3.1 flask-cors-3.0.9 importlib-metadata-1.7.0 memory-profiler-0.58.0 mlpiper-2.3.3 progress-1.5 py4j-0.10.9.1 ruamel.yaml-0.16.12 ruamel.yaml.clib-0.2.2 strictyaml-1.0.6 texttable-1.6.3 uwsgi-2.0.19.1 websocket-client-0.57.0\n",
            "Collecting PyYAML==5.3.1\n",
            "\u001b[?25l  Downloading https://files.pythonhosted.org/packages/64/c2/b80047c7ac2478f9501676c988a5411ed5572f35d1beff9cae07d321512c/PyYAML-5.3.1.tar.gz (269kB)\n",
            "\u001b[K     |████████████████████████████████| 276kB 4.7MB/s \n",
            "\u001b[?25hBuilding wheels for collected packages: PyYAML\n",
            "  Building wheel for PyYAML (setup.py) ... \u001b[?25l\u001b[?25hdone\n",
            "  Created wheel for PyYAML: filename=PyYAML-5.3.1-cp36-cp36m-linux_x86_64.whl size=44619 sha256=b7a522c821756325fdd55ee785195665007c0c6a3b48d78e535934796fd169bc\n",
            "  Stored in directory: /root/.cache/pip/wheels/a7/c1/ea/cf5bd31012e735dc1dfea3131a2d5eae7978b251083d6247bd\n",
            "Successfully built PyYAML\n",
            "Installing collected packages: PyYAML\n",
            "  Found existing installation: PyYAML 3.13\n",
            "    Uninstalling PyYAML-3.13:\n",
            "      Successfully uninstalled PyYAML-3.13\n",
            "Successfully installed PyYAML-5.3.1\n",
            "Collecting xgboost==1.2.1\n",
            "\u001b[?25l  Downloading https://files.pythonhosted.org/packages/35/cc/fd3d5fc6b6616a03385a0f6492cc77a253940d1026406ecc07597095e381/xgboost-1.2.1-py3-none-manylinux2010_x86_64.whl (148.9MB)\n",
            "\u001b[K     |████████████████████████████████| 148.9MB 101kB/s \n",
            "\u001b[?25hRequirement already satisfied: scipy in /usr/local/lib/python3.6/dist-packages (from xgboost==1.2.1) (1.4.1)\n",
            "Requirement already satisfied: numpy in /usr/local/lib/python3.6/dist-packages (from xgboost==1.2.1) (1.18.5)\n",
            "Installing collected packages: xgboost\n",
            "  Found existing installation: xgboost 0.90\n",
            "    Uninstalling xgboost-0.90:\n",
            "      Successfully uninstalled xgboost-0.90\n",
            "Successfully installed xgboost-1.2.1\n"
          ],
          "name": "stdout"
        }
      ]
    },
    {
      "cell_type": "code",
      "metadata": {
        "id": "vAkNyQLWMrlN"
      },
      "source": [
        "import pandas as pd\n",
        "from sklearn.ensemble import RandomForestRegressor\n",
        "import pickle\n",
        "import datetime\n",
        "\n",
        "## load data\n",
        "\n",
        "df = pd.read_csv('/content/odsc-ml-drum/data/boston_housing.csv')\n",
        "df.head()\n",
        "\n",
        "## set features and target\n",
        "\n",
        "X = df.drop('MEDV', axis=1)\n",
        "y = df['MEDV']\n",
        "\n",
        "## train the model\n",
        "rf = RandomForestRegressor(n_estimators = 20)\n",
        "rf.fit(X,y)\n",
        "\n",
        "## serialize the model\n",
        "\n",
        "with open('/content/odsc-ml-drum/src/custom_model/rf.pkl', 'wb') as pkl:\n",
        "    pickle.dump(rf, pkl)"
      ],
      "execution_count": 5,
      "outputs": []
    },
    {
      "cell_type": "markdown",
      "metadata": {
        "id": "t4p0zDG-VWJP"
      },
      "source": [
        "# Batch Scoring with DRUM\n",
        "<a id=\"setup_complete\"></a>\n",
        "\n",
        "At this point our model has been written to disk and we want to start making predictions with it.  To do this, we'll leverage DRUM and it's ability to natively handle our scikit learn model, all we need to do is tell DRUM where it resides as well as the data we wish to score.  \n",
        "\n",
        "There are a lot of frameworks which DRUM supports nateively, but for those which DRUM doesn't support of these shelf, we'll just need to create some custom hooks so DRUM.  In this example, we'll highlight some very simple custom hooks, and will provide links to more complex examples.  "
      ]
    },
    {
      "cell_type": "code",
      "metadata": {
        "id": "C_OOeqEx6hqH",
        "outputId": "6d58b04b-d3b7-448f-8ed4-680805a1037c",
        "colab": {
          "base_uri": "https://localhost:8080/"
        }
      },
      "source": [
        "!drum score --code-dir /content/odsc-ml-drum/src/custom_model --input /content/odsc-ml-drum/data/boston_housing_inference.csv --output /content/odsc-ml-drum/data/predictions.csv --target-type regression"
      ],
      "execution_count": 8,
      "outputs": [
        {
          "output_type": "stream",
          "text": [
            "/usr/local/lib/python3.6/dist-packages/distributed/config.py:20: YAMLLoadWarning: calling yaml.load() without Loader=... is deprecated, as the default Loader is unsafe. Please read https://msg.pyyaml.org/load for full details.\n",
            "  defaults = yaml.load(f)\n",
            "2020-10-29 12:07:41.184675: I tensorflow/stream_executor/platform/default/dso_loader.cc:48] Successfully opened dynamic library libcudart.so.10.1\n"
          ],
          "name": "stdout"
        }
      ]
    },
    {
      "cell_type": "code",
      "metadata": {
        "id": "pLQnWJw_MrlU",
        "outputId": "464e9ff9-75a8-45f0-b64d-91d262cff197",
        "colab": {
          "base_uri": "https://localhost:8080/",
          "height": 204
        }
      },
      "source": [
        "pd.read_csv(\"/content/odsc-ml-drum/data/predictions.csv\").head()"
      ],
      "execution_count": 10,
      "outputs": [
        {
          "output_type": "execute_result",
          "data": {
            "text/html": [
              "<div>\n",
              "<style scoped>\n",
              "    .dataframe tbody tr th:only-of-type {\n",
              "        vertical-align: middle;\n",
              "    }\n",
              "\n",
              "    .dataframe tbody tr th {\n",
              "        vertical-align: top;\n",
              "    }\n",
              "\n",
              "    .dataframe thead th {\n",
              "        text-align: right;\n",
              "    }\n",
              "</style>\n",
              "<table border=\"1\" class=\"dataframe\">\n",
              "  <thead>\n",
              "    <tr style=\"text-align: right;\">\n",
              "      <th></th>\n",
              "      <th>Predictions</th>\n",
              "    </tr>\n",
              "  </thead>\n",
              "  <tbody>\n",
              "    <tr>\n",
              "      <th>0</th>\n",
              "      <td>27.610</td>\n",
              "    </tr>\n",
              "    <tr>\n",
              "      <th>1</th>\n",
              "      <td>21.630</td>\n",
              "    </tr>\n",
              "    <tr>\n",
              "      <th>2</th>\n",
              "      <td>34.870</td>\n",
              "    </tr>\n",
              "    <tr>\n",
              "      <th>3</th>\n",
              "      <td>33.765</td>\n",
              "    </tr>\n",
              "    <tr>\n",
              "      <th>4</th>\n",
              "      <td>35.265</td>\n",
              "    </tr>\n",
              "  </tbody>\n",
              "</table>\n",
              "</div>"
            ],
            "text/plain": [
              "   Predictions\n",
              "0       27.610\n",
              "1       21.630\n",
              "2       34.870\n",
              "3       33.765\n",
              "4       35.265"
            ]
          },
          "metadata": {
            "tags": []
          },
          "execution_count": 10
        }
      ]
    },
    {
      "cell_type": "markdown",
      "metadata": {
        "id": "JmS971iweH6t"
      },
      "source": [
        "# Start the inference server locally\n",
        "\n",
        "Batch scoring can be very useful, but the utility DRUM offers does not stop there.  We can also leverage DRUM to serve our model as a RESTful API endpoint.  The only thing that changes is the way we will structure the command - using the `server` mode instead of `score` model.  We'll also need to provide an address which is NOT in use.  \n",
        "\n",
        "When starting the server, we'll use `subprocess.Popen` so we may interact with the server in this notebook"
      ]
    },
    {
      "cell_type": "code",
      "metadata": {
        "id": "D7BrHC1gYjHD"
      },
      "source": [
        "import subprocess\n",
        "import requests\n",
        "import pandas as pd\n",
        "from io import BytesIO\n",
        "import yaml\n",
        "import time\n",
        "import os\n",
        "import datarobot as dr\n",
        "from pprint import pprint"
      ],
      "execution_count": 11,
      "outputs": []
    },
    {
      "cell_type": "code",
      "metadata": {
        "id": "crlRTOHcMrld"
      },
      "source": [
        "run_inference_server = [\"drum\",\n",
        "              \"server\",\n",
        "              \"--code-dir\",\"/content/odsc-ml-drum/src/custom_model\", \n",
        "              \"--address\", \"0.0.0.0:6789\", \n",
        "              \"--show-perf\",\n",
        "              \"--target-type\", \"regression\",\n",
        "              \"--logging-level\", \"info\",\n",
        "              \"--show-stacktrace\",\n",
        "#               \"--verbose\"\n",
        "              ]"
      ],
      "execution_count": 12,
      "outputs": []
    },
    {
      "cell_type": "code",
      "metadata": {
        "id": "jWvksr_sYlEr"
      },
      "source": [
        "inference_server = subprocess.Popen(run_inference_server, stdout=subprocess.PIPE)"
      ],
      "execution_count": 13,
      "outputs": []
    },
    {
      "cell_type": "markdown",
      "metadata": {
        "id": "peFenY-leJo3"
      },
      "source": [
        "## Ping the Server to make sure it is running"
      ]
    },
    {
      "cell_type": "code",
      "metadata": {
        "id": "jmh7SRfQVnTU",
        "outputId": "769e4e79-9d0d-489e-83ab-55f295a972f6",
        "colab": {
          "base_uri": "https://localhost:8080/"
        }
      },
      "source": [
        "## confirm the server is running\n",
        "time.sleep(5) ## snoozing before pinging the server to give it time to actually start\n",
        "print('check status')\n",
        "requests.request(\"GET\", \"http://0.0.0.0:6789/\").content"
      ],
      "execution_count": 14,
      "outputs": [
        {
          "output_type": "stream",
          "text": [
            "check status\n"
          ],
          "name": "stdout"
        },
        {
          "output_type": "execute_result",
          "data": {
            "text/plain": [
              "b'{\"message\":\"OK\"}\\n'"
            ]
          },
          "metadata": {
            "tags": []
          },
          "execution_count": 14
        }
      ]
    },
    {
      "cell_type": "markdown",
      "metadata": {
        "id": "JOsaTgXOeNMG"
      },
      "source": [
        "## Send data to server for inference\n",
        "\n",
        "The request must provide our dataset as form data.  In order to do so, we'll create a simple python function to pass the data over appropriately.  We'll leverage the same function in our simple flask app a little later.  "
      ]
    },
    {
      "cell_type": "code",
      "metadata": {
        "id": "iZ-sZcHMYmRx"
      },
      "source": [
        "def score(data, port = \"6789\"):\n",
        "    b_buf = BytesIO()\n",
        "    b_buf.write(data.to_csv(index=False).encode(\"utf-8\"))\n",
        "    b_buf.seek(0)\n",
        "  \n",
        "    url = \"http://localhost:{}/predict/\".format(port)\n",
        "    files = [\n",
        "        ('X', b_buf)\n",
        "    ]\n",
        "    response = requests.request(\"POST\", url, files = files, timeout=None, verify=False)\n",
        "    return response"
      ],
      "execution_count": 15,
      "outputs": []
    },
    {
      "cell_type": "code",
      "metadata": {
        "id": "nxMXRS5KMrlp"
      },
      "source": [
        ""
      ],
      "execution_count": null,
      "outputs": []
    },
    {
      "cell_type": "code",
      "metadata": {
        "id": "HjdKXUcUWUXq",
        "outputId": "6534b495-a9ea-47e9-ec7d-908a747a5461",
        "colab": {
          "base_uri": "https://localhost:8080/"
        }
      },
      "source": [
        "# %%timeit\n",
        "scoring_data = pd.read_csv(\"/content/odsc-ml-drum/data/boston_housing_inference.csv\")\n",
        "predictions = score(scoring_data).json() ## score entire dataset but only show first 5 records\n",
        "pprint(predictions)"
      ],
      "execution_count": 16,
      "outputs": [
        {
          "output_type": "stream",
          "text": [
            "{'predictions': [27.61,\n",
            "                 21.63,\n",
            "                 34.87,\n",
            "                 33.765,\n",
            "                 35.265,\n",
            "                 26.595,\n",
            "                 22.51,\n",
            "                 23.465,\n",
            "                 16.235]}\n"
          ],
          "name": "stdout"
        }
      ]
    },
    {
      "cell_type": "markdown",
      "metadata": {
        "id": "eoWo_BlnMrlt"
      },
      "source": [
        "## Start the Flask App\n",
        "\n",
        "Now that we testing out our endpoing, now it is time to start up our flask app, but first, we need to set a few environment variables for the flask app.  "
      ]
    },
    {
      "cell_type": "code",
      "metadata": {
        "scrolled": true,
        "id": "xZRfiYa5Mrlu"
      },
      "source": [
        "# os.environ[\"LC_ALL\"] = \"C.UTF-8\"\n",
        "# os.environ[\"LANG\"] = \"C.UTF-8\"\n",
        "# os.environ[\"FLASK_APP\"] = \"server.app\"\n",
        "# os.environ[\"FLASK_ENV\"] = \"development\""
      ],
      "execution_count": 17,
      "outputs": []
    },
    {
      "cell_type": "markdown",
      "metadata": {
        "id": "UE3K9hrvMrlw"
      },
      "source": [
        "Running the flask app as follows will lock the interpreter and only return control once you interupt the kernal.  Be advised that interupting the kernel via the `stop` button will kill the flask app AND the inference server.  Once you execute the following cell, go over to the [app](http://localhost:8080/frontend)"
      ]
    },
    {
      "cell_type": "code",
      "metadata": {
        "scrolled": false,
        "id": "wj2UW5spMrlw",
        "outputId": "f4511d26-36bf-4323-8d68-61049ac5f542"
      },
      "source": [
        "# !cd /content/odsc-ml-drum/src && python -m flask run --host 0.0.0.0 --port 8080"
      ],
      "execution_count": null,
      "outputs": [
        {
          "output_type": "stream",
          "text": [
            " * Serving Flask app \"server.app\" (lazy loading)\n",
            " * Environment: development\n",
            " * Debug mode: on\n",
            " * Running on http://0.0.0.0:8080/ (Press CTRL+C to quit)\n",
            " * Restarting with stat\n",
            " * Debugger is active!\n",
            " * Debugger PIN: 208-528-333\n",
            "127.0.0.1 - - [27/Oct/2020 11:19:23] \"\u001b[37mGET /frontend HTTP/1.1\u001b[0m\" 200 -\n",
            "127.0.0.1 - - [27/Oct/2020 11:19:23] \"\u001b[37mGET /static/styles/layout.css HTTP/1.1\u001b[0m\" 200 -\n",
            "127.0.0.1 - - [27/Oct/2020 11:19:23] \"\u001b[33mGET /favicon.ico HTTP/1.1\u001b[0m\" 404 -\n",
            "      CRIM    ZN  INDUS  CHAS    NOX  ...  RAD    TAX  PTRATIO      B  LSTAT\n",
            "0  0.00632  18.0   2.31   0.0  0.538  ...  1.0  296.0     15.3  396.9   4.98\n",
            "\n",
            "[1 rows x 13 columns]\n",
            "making request\n",
            "prediciton [25.725]\n",
            "heylksdfmlsdmsdflklmsdfsdf\n",
            "127.0.0.1 - - [27/Oct/2020 11:19:25] \"\u001b[37mPOST /frontend HTTP/1.1\u001b[0m\" 200 -\n",
            "^C\n"
          ],
          "name": "stdout"
        }
      ]
    },
    {
      "cell_type": "code",
      "metadata": {
        "id": "FMb4fG9fMrlz"
      },
      "source": [
        "# inference_server.terminate()\n",
        "# inference_server.stdout.readlines()"
      ],
      "execution_count": 18,
      "outputs": []
    },
    {
      "cell_type": "code",
      "metadata": {
        "id": "6a20HW9uMrl1",
        "outputId": "08c13d22-53d5-4aac-e155-94bdb6c7e94e",
        "colab": {
          "base_uri": "https://localhost:8080/"
        }
      },
      "source": [
        "requests.request(\"GET\", \"http://0.0.0.0:6789/\").content"
      ],
      "execution_count": 40,
      "outputs": [
        {
          "output_type": "execute_result",
          "data": {
            "text/plain": [
              "b'{\"message\":\"OK\"}\\n'"
            ]
          },
          "metadata": {
            "tags": []
          },
          "execution_count": 40
        }
      ]
    },
    {
      "cell_type": "code",
      "metadata": {
        "id": "uM8z8v8cTaqD",
        "outputId": "0f5eb471-d448-4fbd-9445-9f81b614541b",
        "colab": {
          "base_uri": "https://localhost:8080/"
        }
      },
      "source": [
        "requests.request(\"POST\", \"http://0.0.0.0:6789/shutdown/\").content"
      ],
      "execution_count": 41,
      "outputs": [
        {
          "output_type": "execute_result",
          "data": {
            "text/plain": [
              "b'Server shutting down...'"
            ]
          },
          "metadata": {
            "tags": []
          },
          "execution_count": 41
        }
      ]
    },
    {
      "cell_type": "markdown",
      "metadata": {
        "id": "OIGQMPjgMrl3"
      },
      "source": [
        "## Value Prop\n",
        "\n",
        "One may ask, what is the benefit to be had here?  Well, first of, there is not need for me to write an api to get the model up and running.  Second, DRUM allows me to abstract the framework away (provided I'm using one that is natively supported, or I can write enough python so that DRUM understands how to hook up to the model.  \n",
        "\n",
        "For example, I could hot swap models as I see fit (see exampels in `./src/other_models`)\n",
        "\n",
        "While we will run through several other frameworks with in `score` you can bet they are supported in `server` mode as well!"
      ]
    },
    {
      "cell_type": "markdown",
      "metadata": {
        "id": "eHGKKPfNMrl4"
      },
      "source": [
        "#### H2O Mojo"
      ]
    },
    {
      "cell_type": "code",
      "metadata": {
        "id": "oPxTpC-NMrl4",
        "outputId": "e411fe94-32e5-4d9a-c04c-44566a4785da",
        "colab": {
          "base_uri": "https://localhost:8080/"
        }
      },
      "source": [
        "!drum score --code-dir /content/odsc-ml-drum/src/other_models/h2o_mojo/regression --input /content/odsc-ml-drum/data/boston_housing_inference.csv --target-type regression\n"
      ],
      "execution_count": 20,
      "outputs": [
        {
          "output_type": "stream",
          "text": [
            "SLF4J: Failed to load class \"org.slf4j.impl.StaticLoggerBinder\".\n",
            "SLF4J: Defaulting to no-operation (NOP) logger implementation\n",
            "SLF4J: See http://www.slf4j.org/codes.html#StaticLoggerBinder for further details.\n",
            "   Predictions\n",
            "0    24.504000\n",
            "1    22.492000\n",
            "2    34.554001\n",
            "3    34.420001\n",
            "4    35.289001\n",
            "5    28.394001\n",
            "6    21.936000\n",
            "7    23.451000\n",
            "8    17.065000\n"
          ],
          "name": "stdout"
        }
      ]
    },
    {
      "cell_type": "markdown",
      "metadata": {
        "id": "35pX5I94Mrl7"
      },
      "source": [
        "#### Keras"
      ]
    },
    {
      "cell_type": "code",
      "metadata": {
        "id": "mz6CNMITMrl7",
        "outputId": "63c27bba-aa3b-48c2-c616-88ce1561d7a3",
        "colab": {
          "base_uri": "https://localhost:8080/"
        }
      },
      "source": [
        "!drum score --code-dir /content/odsc-ml-drum/src/other_models/python3_keras_joblib --input /content/odsc-ml-drum/data/boston_housing_inference.csv --target-type regression\n"
      ],
      "execution_count": 21,
      "outputs": [
        {
          "output_type": "stream",
          "text": [
            "2020-10-29 12:11:07.836053: I tensorflow/stream_executor/platform/default/dso_loader.cc:48] Successfully opened dynamic library libcudart.so.10.1\n",
            "/usr/local/lib/python3.6/dist-packages/sklearn/base.py:318: UserWarning: Trying to unpickle estimator SimpleImputer from version 0.23.1 when using version 0.22.2.post1. This might lead to breaking code or invalid results. Use at your own risk.\n",
            "  UserWarning)\n",
            "/usr/local/lib/python3.6/dist-packages/sklearn/base.py:318: UserWarning: Trying to unpickle estimator StandardScaler from version 0.23.1 when using version 0.22.2.post1. This might lead to breaking code or invalid results. Use at your own risk.\n",
            "  UserWarning)\n",
            "/usr/local/lib/python3.6/dist-packages/sklearn/base.py:318: UserWarning: Trying to unpickle estimator Pipeline from version 0.23.1 when using version 0.22.2.post1. This might lead to breaking code or invalid results. Use at your own risk.\n",
            "  UserWarning)\n",
            "/usr/local/lib/python3.6/dist-packages/sklearn/base.py:318: UserWarning: Trying to unpickle estimator ColumnTransformer from version 0.23.1 when using version 0.22.2.post1. This might lead to breaking code or invalid results. Use at your own risk.\n",
            "  UserWarning)\n",
            "2020-10-29 12:11:09.251395: I tensorflow/stream_executor/platform/default/dso_loader.cc:48] Successfully opened dynamic library libcuda.so.1\n",
            "2020-10-29 12:11:09.309349: I tensorflow/stream_executor/cuda/cuda_gpu_executor.cc:982] successful NUMA node read from SysFS had negative value (-1), but there must be at least one NUMA node, so returning NUMA node zero\n",
            "2020-10-29 12:11:09.309991: I tensorflow/core/common_runtime/gpu/gpu_device.cc:1716] Found device 0 with properties: \n",
            "pciBusID: 0000:00:04.0 name: Tesla T4 computeCapability: 7.5\n",
            "coreClock: 1.59GHz coreCount: 40 deviceMemorySize: 14.73GiB deviceMemoryBandwidth: 298.08GiB/s\n",
            "2020-10-29 12:11:09.310036: I tensorflow/stream_executor/platform/default/dso_loader.cc:48] Successfully opened dynamic library libcudart.so.10.1\n",
            "2020-10-29 12:11:09.534420: I tensorflow/stream_executor/platform/default/dso_loader.cc:48] Successfully opened dynamic library libcublas.so.10\n",
            "2020-10-29 12:11:09.650204: I tensorflow/stream_executor/platform/default/dso_loader.cc:48] Successfully opened dynamic library libcufft.so.10\n",
            "2020-10-29 12:11:09.699369: I tensorflow/stream_executor/platform/default/dso_loader.cc:48] Successfully opened dynamic library libcurand.so.10\n",
            "2020-10-29 12:11:09.946094: I tensorflow/stream_executor/platform/default/dso_loader.cc:48] Successfully opened dynamic library libcusolver.so.10\n",
            "2020-10-29 12:11:10.005387: I tensorflow/stream_executor/platform/default/dso_loader.cc:48] Successfully opened dynamic library libcusparse.so.10\n",
            "2020-10-29 12:11:10.522924: I tensorflow/stream_executor/platform/default/dso_loader.cc:48] Successfully opened dynamic library libcudnn.so.7\n",
            "2020-10-29 12:11:10.523154: I tensorflow/stream_executor/cuda/cuda_gpu_executor.cc:982] successful NUMA node read from SysFS had negative value (-1), but there must be at least one NUMA node, so returning NUMA node zero\n",
            "2020-10-29 12:11:10.523917: I tensorflow/stream_executor/cuda/cuda_gpu_executor.cc:982] successful NUMA node read from SysFS had negative value (-1), but there must be at least one NUMA node, so returning NUMA node zero\n",
            "2020-10-29 12:11:10.524480: I tensorflow/core/common_runtime/gpu/gpu_device.cc:1858] Adding visible gpu devices: 0\n",
            "2020-10-29 12:11:10.586331: I tensorflow/core/platform/profile_utils/cpu_utils.cc:104] CPU Frequency: 2200000000 Hz\n",
            "2020-10-29 12:11:10.586585: I tensorflow/compiler/xla/service/service.cc:168] XLA service 0x2e7d100 initialized for platform Host (this does not guarantee that XLA will be used). Devices:\n",
            "2020-10-29 12:11:10.586649: I tensorflow/compiler/xla/service/service.cc:176]   StreamExecutor device (0): Host, Default Version\n",
            "2020-10-29 12:11:10.724508: I tensorflow/stream_executor/cuda/cuda_gpu_executor.cc:982] successful NUMA node read from SysFS had negative value (-1), but there must be at least one NUMA node, so returning NUMA node zero\n",
            "2020-10-29 12:11:10.725254: I tensorflow/compiler/xla/service/service.cc:168] XLA service 0x2e7d2c0 initialized for platform CUDA (this does not guarantee that XLA will be used). Devices:\n",
            "2020-10-29 12:11:10.725287: I tensorflow/compiler/xla/service/service.cc:176]   StreamExecutor device (0): Tesla T4, Compute Capability 7.5\n",
            "2020-10-29 12:11:10.726227: I tensorflow/stream_executor/cuda/cuda_gpu_executor.cc:982] successful NUMA node read from SysFS had negative value (-1), but there must be at least one NUMA node, so returning NUMA node zero\n",
            "2020-10-29 12:11:10.726841: I tensorflow/core/common_runtime/gpu/gpu_device.cc:1716] Found device 0 with properties: \n",
            "pciBusID: 0000:00:04.0 name: Tesla T4 computeCapability: 7.5\n",
            "coreClock: 1.59GHz coreCount: 40 deviceMemorySize: 14.73GiB deviceMemoryBandwidth: 298.08GiB/s\n",
            "2020-10-29 12:11:10.726904: I tensorflow/stream_executor/platform/default/dso_loader.cc:48] Successfully opened dynamic library libcudart.so.10.1\n",
            "2020-10-29 12:11:10.726952: I tensorflow/stream_executor/platform/default/dso_loader.cc:48] Successfully opened dynamic library libcublas.so.10\n",
            "2020-10-29 12:11:10.726976: I tensorflow/stream_executor/platform/default/dso_loader.cc:48] Successfully opened dynamic library libcufft.so.10\n",
            "2020-10-29 12:11:10.727000: I tensorflow/stream_executor/platform/default/dso_loader.cc:48] Successfully opened dynamic library libcurand.so.10\n",
            "2020-10-29 12:11:10.727026: I tensorflow/stream_executor/platform/default/dso_loader.cc:48] Successfully opened dynamic library libcusolver.so.10\n",
            "2020-10-29 12:11:10.727047: I tensorflow/stream_executor/platform/default/dso_loader.cc:48] Successfully opened dynamic library libcusparse.so.10\n",
            "2020-10-29 12:11:10.727070: I tensorflow/stream_executor/platform/default/dso_loader.cc:48] Successfully opened dynamic library libcudnn.so.7\n",
            "2020-10-29 12:11:10.727151: I tensorflow/stream_executor/cuda/cuda_gpu_executor.cc:982] successful NUMA node read from SysFS had negative value (-1), but there must be at least one NUMA node, so returning NUMA node zero\n",
            "2020-10-29 12:11:10.727786: I tensorflow/stream_executor/cuda/cuda_gpu_executor.cc:982] successful NUMA node read from SysFS had negative value (-1), but there must be at least one NUMA node, so returning NUMA node zero\n",
            "2020-10-29 12:11:10.728323: I tensorflow/core/common_runtime/gpu/gpu_device.cc:1858] Adding visible gpu devices: 0\n",
            "2020-10-29 12:11:10.730749: I tensorflow/stream_executor/platform/default/dso_loader.cc:48] Successfully opened dynamic library libcudart.so.10.1\n",
            "2020-10-29 12:11:14.529423: I tensorflow/core/common_runtime/gpu/gpu_device.cc:1257] Device interconnect StreamExecutor with strength 1 edge matrix:\n",
            "2020-10-29 12:11:14.529484: I tensorflow/core/common_runtime/gpu/gpu_device.cc:1263]      0 \n",
            "2020-10-29 12:11:14.529498: I tensorflow/core/common_runtime/gpu/gpu_device.cc:1276] 0:   N \n",
            "2020-10-29 12:11:14.533017: I tensorflow/stream_executor/cuda/cuda_gpu_executor.cc:982] successful NUMA node read from SysFS had negative value (-1), but there must be at least one NUMA node, so returning NUMA node zero\n",
            "2020-10-29 12:11:14.533681: I tensorflow/stream_executor/cuda/cuda_gpu_executor.cc:982] successful NUMA node read from SysFS had negative value (-1), but there must be at least one NUMA node, so returning NUMA node zero\n",
            "2020-10-29 12:11:14.534266: W tensorflow/core/common_runtime/gpu/gpu_bfc_allocator.cc:39] Overriding allow_growth setting because the TF_FORCE_GPU_ALLOW_GROWTH environment variable is set. Original config value was 0.\n",
            "2020-10-29 12:11:14.534313: I tensorflow/core/common_runtime/gpu/gpu_device.cc:1402] Created TensorFlow device (/job:localhost/replica:0/task:0/device:GPU:0 with 13962 MB memory) -> physical GPU (device: 0, name: Tesla T4, pci bus id: 0000:00:04.0, compute capability: 7.5)\n",
            "2020-10-29 12:11:14,737 WARNING tensorflow:  No training configuration found in the save file, so the model was *not* compiled. Compile it manually.\n",
            "2020-10-29 12:11:14.975855: I tensorflow/stream_executor/platform/default/dso_loader.cc:48] Successfully opened dynamic library libcublas.so.10\n",
            "   Predictions\n",
            "0    23.668932\n",
            "1    23.421118\n",
            "2    31.283525\n",
            "3    33.996525\n",
            "4    33.757940\n",
            "5    28.036715\n",
            "6    20.675852\n",
            "7    19.578413\n",
            "8    19.676756\n"
          ],
          "name": "stdout"
        }
      ]
    },
    {
      "cell_type": "markdown",
      "metadata": {
        "id": "PsanmxC-Mrl9"
      },
      "source": [
        "#### XGBoost\n",
        "\n",
        "Requires XGBoost"
      ]
    },
    {
      "cell_type": "code",
      "metadata": {
        "id": "myCq6e63Mrl-",
        "outputId": "415466f7-3f6a-46ff-bb57-4882c32efb23",
        "colab": {
          "base_uri": "https://localhost:8080/"
        }
      },
      "source": [
        "!drum score --code-dir /content/odsc-ml-drum/src/other_models/python3_xgboost --input /content/odsc-ml-drum/data/boston_housing_inference.csv --target-type regression\n"
      ],
      "execution_count": 22,
      "outputs": [
        {
          "output_type": "stream",
          "text": [
            "/usr/local/lib/python3.6/dist-packages/distributed/config.py:20: YAMLLoadWarning: calling yaml.load() without Loader=... is deprecated, as the default Loader is unsafe. Please read https://msg.pyyaml.org/load for full details.\n",
            "  defaults = yaml.load(f)\n",
            "2020-10-29 12:11:29.978576: I tensorflow/stream_executor/platform/default/dso_loader.cc:48] Successfully opened dynamic library libcudart.so.10.1\n",
            "   Predictions\n",
            "0    24.541843\n",
            "1    21.260277\n",
            "2    34.018497\n",
            "3    32.569200\n",
            "4    34.248066\n",
            "5    27.282364\n",
            "6    20.803959\n",
            "7    19.645220\n",
            "8    16.968880\n"
          ],
          "name": "stdout"
        }
      ]
    },
    {
      "cell_type": "markdown",
      "metadata": {
        "id": "HGuTZhCZMrmA"
      },
      "source": [
        "#### DataRobot Codegen"
      ]
    },
    {
      "cell_type": "code",
      "metadata": {
        "id": "7dTPDvBwMrmB",
        "outputId": "57c394df-5559-4ae0-b3e5-9e1a26da7996",
        "colab": {
          "base_uri": "https://localhost:8080/"
        }
      },
      "source": [
        "!drum score --code-dir /content/odsc-ml-drum/src/other_models/dr_codegen --input /content/odsc-ml-drum/data/boston_housing_inference.csv --target-type regression\n"
      ],
      "execution_count": 23,
      "outputs": [
        {
          "output_type": "stream",
          "text": [
            "   Predictions\n",
            "0    24.258228\n",
            "1    24.258228\n",
            "2    32.451515\n",
            "3    32.451515\n",
            "4    32.451515\n",
            "5    24.258228\n",
            "6    21.078378\n",
            "7    13.107812\n",
            "8    13.107812\n"
          ],
          "name": "stdout"
        }
      ]
    },
    {
      "cell_type": "markdown",
      "metadata": {
        "id": "3b64jAKbMrmD"
      },
      "source": [
        "# Monitoring Deployments\n",
        "\n",
        "What follows will require a DataRobot account.  You can get a trial account at [https://www.datarobot.com/trial/](https://www.datarobot.com/trial/)\n",
        "\n",
        "Also, JDK 11 or 12 will be required.\n",
        "\n",
        "The main idea: we'll will start an agent service locally.  This agent will be monitoring a spooler.  The spooler could be something as simple as local file system, or a little more realistic like a message broker (pubsub, rabbitmq, sqs).  \n",
        "\n",
        "Once, this agent is spun up locally, we'll enable a few environment variables to let DRUM know that there is an agent present and that it needs to buffer data to defined spool.  "
      ]
    },
    {
      "cell_type": "markdown",
      "metadata": {
        "id": "Tfg4efhHMrmE"
      },
      "source": [
        "## Getting the monitoring agents\n",
        "\n"
      ]
    },
    {
      "cell_type": "markdown",
      "metadata": {
        "id": "d3859XOYMrmE"
      },
      "source": [
        "Currently - have to go in through the [UI](https://app2.datarobot.com/account/developer-tools) to grab the agents "
      ]
    },
    {
      "cell_type": "code",
      "metadata": {
        "id": "JsnraGL9MrmF"
      },
      "source": [
        "token = \"NWY2Y2RlMDhkMDgzMGIwMzA2NjU0ZjUwOkhrVnVsMS9oTmt6REI1N3BoSG5NV0hzMUxRaFFzTXhTYUYrVVNWY3BySG89\"\n",
        "endpoint = \"https://app2.datarobot.com\"\n",
        "## connect to DataRobot platform with python client. \n",
        "client = dr.Client(token, \"{}/api/v2\".format(endpoint))\n",
        "# mlops_agents_tb = client.get(\"mlopsInstaller\")\n",
        "# with open(\"/content/odsc-ml-drum/mlops-agent.tar.gz\", \"wb\") as f:\n",
        "#     f.write(mlops_agents_tb.content)"
      ],
      "execution_count": 25,
      "outputs": []
    },
    {
      "cell_type": "code",
      "metadata": {
        "id": "D6BU9DbfMrmL"
      },
      "source": [
        "# !tar -xf /content/mlops-agent.tar.gz -C ..\n",
        "!tar -xf /content/datarobot-mlops-agent-6.2.4-399.tar.gz -C ."
      ],
      "execution_count": 26,
      "outputs": []
    },
    {
      "cell_type": "markdown",
      "metadata": {
        "id": "zCvCVHTyMrmO"
      },
      "source": [
        "## Configuring the Agent\n",
        "\n",
        "When we'll configure the agent, we just need to define the DataRobot MLOPS location, our api token.  By default, the agent will expect the data to be spooled on the local file system.  Specifically, the default location will be `/tmp/ta` so we just need to make sure that location exists"
      ]
    },
    {
      "cell_type": "code",
      "metadata": {
        "id": "bmhhI_2_MrmO"
      },
      "source": [
        "!mkdir -p /tmp/ta"
      ],
      "execution_count": 28,
      "outputs": []
    },
    {
      "cell_type": "code",
      "metadata": {
        "id": "RDVCJw4qMrmS"
      },
      "source": [
        "agents_dir = \"/content/datarobot-mlops-agent-6.2.4\"\n",
        "with open(r'{}/conf/mlops.agent.conf.yaml'.format(agents_dir)) as file:\n",
        "    documents = yaml.load(file, Loader=yaml.FullLoader)\n",
        "## configure the loaction of the mlops instance with which we'll communcate\n",
        "documents['mlopsUrl'] = endpoint\n",
        "# Set your API token\n",
        "documents['apiToken'] = token\n",
        "## write the configuration back to disk\n",
        "with open('../{}/conf/mlops.agent.conf.yaml'.format(agents_dir), \"w\") as f:\n",
        "    yaml.dump(documents, f)"
      ],
      "execution_count": 27,
      "outputs": []
    },
    {
      "cell_type": "markdown",
      "metadata": {
        "id": "xdaHl8XGMrmU"
      },
      "source": [
        "## Start the Agent Service\n",
        "\n",
        "Checking to make sure we can start up the agents service.  \n",
        "\n",
        "This will require a JDK - tested with 11 and 12"
      ]
    },
    {
      "cell_type": "code",
      "metadata": {
        "id": "wXqlGPhVMrmU",
        "outputId": "1d3f40d4-b3d9-40af-eca6-957561b87144",
        "colab": {
          "base_uri": "https://localhost:8080/"
        }
      },
      "source": [
        "## run agents service\n",
        "subprocess.call(\"{}/bin/start-agent.sh\".format(agents_dir))"
      ],
      "execution_count": 29,
      "outputs": [
        {
          "output_type": "execute_result",
          "data": {
            "text/plain": [
              "0"
            ]
          },
          "metadata": {
            "tags": []
          },
          "execution_count": 29
        }
      ]
    },
    {
      "cell_type": "code",
      "metadata": {
        "id": "0ED-Oqh8MrmX",
        "outputId": "e486471f-2089-4f06-b15f-ca33f6855467",
        "colab": {
          "base_uri": "https://localhost:8080/"
        }
      },
      "source": [
        "## check status\n",
        "check = subprocess.Popen([\"../{}/bin/status-agent.sh\".format(agents_dir)], stdout=subprocess.PIPE)\n",
        "print(check.stdout.readlines())\n",
        "check.terminate()"
      ],
      "execution_count": 30,
      "outputs": [
        {
          "output_type": "stream",
          "text": [
            "[b'DataRobot MLOps-Agent is running as a service.\\n']\n"
          ],
          "name": "stdout"
        }
      ]
    },
    {
      "cell_type": "code",
      "metadata": {
        "id": "SyOhPs-6MrmZ",
        "outputId": "a16aa7e5-049f-4e6c-8b2b-df527389527b",
        "colab": {
          "base_uri": "https://localhost:8080/"
        }
      },
      "source": [
        "## check log to see that the agent connected to DR MLOps\n",
        "check = subprocess.Popen([\"cat\", \"../{}/logs/mlops.agent.log\".format(agents_dir)], stdout=subprocess.PIPE)\n",
        "for line in check.stdout.readlines():\n",
        "    print(line)\n",
        "check.terminate()"
      ],
      "execution_count": 31,
      "outputs": [
        {
          "output_type": "stream",
          "text": [
            "b'2020-10-29 12:17:23,828 INFO  com.datarobot.mlops.agent.config.channels.YamlBuilder        [] - Found spooler of type FILESYSTEM\\n'\n",
            "b'2020-10-29 12:17:23,831 INFO  com.datarobot.mlops.agent.config.channels.YamlBuilder        [] - Setting directory = /tmp/ta\\n'\n",
            "b'2020-10-29 12:17:23,831 INFO  com.datarobot.mlops.agent.config.channels.YamlBuilder        [] - Setting CHANNEL_NAME = filesystem\\n'\n",
            "b\"2020-10-29 12:17:24,858 INFO  com.datarobot.mlops.common.client.MLOpsClient                [] - DataRobot Server API Version found: '2.22'\\n\"\n",
            "b\"2020-10-29 12:17:25,042 INFO  com.datarobot.mlops.common.client.MLOpsClient                [] - DataRobot Server API Version found: '2.22'\\n\"\n",
            "b\"2020-10-29 12:17:25,042 INFO  com.datarobot.mlops.agent.Agent                              [] - DataRobot server at 'https://app2.datarobot.com' is reachable.\\n\"\n",
            "b'2020-10-29 12:17:25,043 INFO  com.datarobot.mlops.agent.Agent                              [] - DataRobot Monitoring Agent will process 100 records at a time at most.\\n'\n",
            "b'2020-10-29 12:17:25,044 INFO  com.datarobot.mlops.agent.AgentRunner                        [] - Creating new agent channel\\n'\n",
            "b'2020-10-29 12:17:25,045 INFO  com.datarobot.mlops.agent.AgentRunner                        [] - Initializing agent channel\\n'\n",
            "b'2020-10-29 12:17:25,070 INFO  com.datarobot.mlops.agent.AgentRunner                        [] - Initialized\\n'\n",
            "b'2020-10-29 12:17:25,071 INFO  com.datarobot.mlops.agent.AgentRunner                        [] - Listing channels:\\n'\n",
            "b'\\tChannel Name: filesystem, Channel Type: FILESYSTEM\\n'\n",
            "b'\\n'\n",
            "b'2020-10-29 12:17:25,072 INFO  com.datarobot.mlops.agent.AgentRunner                        [] - Running agent as service process pid and hostname [1125@074f21f9704d]\\n'\n"
          ],
          "name": "stdout"
        }
      ]
    },
    {
      "cell_type": "markdown",
      "metadata": {
        "id": "mpKEu8LsMrmb"
      },
      "source": [
        "## DataRobot MLOps - Deploying External Model "
      ]
    },
    {
      "cell_type": "markdown",
      "metadata": {
        "id": "CzhVEIIhMrmb"
      },
      "source": [
        "To communication with DataRobot MLOps, with need to MLOps python client installed which came in the downloaded tarball"
      ]
    },
    {
      "cell_type": "code",
      "metadata": {
        "id": "VDk1PZv6Mrmc",
        "outputId": "f1404cfc-94e3-4adc-c150-43435992ad5e",
        "colab": {
          "base_uri": "https://localhost:8080/"
        }
      },
      "source": [
        "!pip install /content/datarobot-mlops-*/lib/datarobot_mlops-*.whl -q"
      ],
      "execution_count": 32,
      "outputs": [
        {
          "output_type": "stream",
          "text": [
            "\u001b[K     |████████████████████████████████| 133kB 5.3MB/s \n",
            "\u001b[K     |████████████████████████████████| 5.9MB 13.9MB/s \n",
            "\u001b[K     |████████████████████████████████| 112kB 54.6MB/s \n",
            "\u001b[K     |████████████████████████████████| 204kB 53.3MB/s \n",
            "\u001b[K     |████████████████████████████████| 71kB 11.2MB/s \n",
            "\u001b[K     |████████████████████████████████| 552kB 51.8MB/s \n",
            "\u001b[31mERROR: datascience 0.10.6 has requirement folium==0.2.1, but you'll have folium 0.8.3 which is incompatible.\u001b[0m\n",
            "\u001b[?25h"
          ],
          "name": "stdout"
        }
      ]
    },
    {
      "cell_type": "code",
      "metadata": {
        "id": "U73bULPOMrme"
      },
      "source": [
        "from datarobot.mlops.mlops import MLOps\n",
        "from datarobot.mlops.common.enums import OutputType\n",
        "from datarobot.mlops.connected.client import MLOpsClient\n",
        "from datarobot.mlops.common.exception import DRConnectedException\n",
        "from datarobot.mlops.constants import Constants"
      ],
      "execution_count": 33,
      "outputs": []
    },
    {
      "cell_type": "code",
      "metadata": {
        "id": "DnC0LZIFMrmg"
      },
      "source": [
        "DEPLOYMENT_NAME=\"Boston Housing Prices ODSC\"\n",
        "TRAINING_DATA = '/content/odsc-ml-drum/data/boston_housing.csv'"
      ],
      "execution_count": 34,
      "outputs": []
    },
    {
      "cell_type": "code",
      "metadata": {
        "id": "TZO6QToQMrmi"
      },
      "source": [
        "model_info = {\n",
        "        \"name\": \"Boston Housing Pricins\",\n",
        "        \"modelDescription\": {\n",
        "            \"description\": \"prediction price of home\"\n",
        "        },\n",
        "        \"target\": {\n",
        "            \"type\": \"Regression\",\n",
        "            \"name\": \"MEDV\",\n",
        "        }\n",
        "}"
      ],
      "execution_count": 35,
      "outputs": []
    },
    {
      "cell_type": "code",
      "metadata": {
        "id": "wz3coM_7Mrml",
        "outputId": "02f12cdf-d3ed-494a-fd19-b161d4225a88",
        "colab": {
          "base_uri": "https://localhost:8080/"
        }
      },
      "source": [
        "# Create connected client\n",
        "mlops_client = MLOpsClient(endpoint, token)\n",
        "\n",
        "# Add training_data to model configuration\n",
        "print(\"Uploading training data - {}. This may take some time...\".format(TRAINING_DATA))\n",
        "dataset_id = mlops_client.upload_dataset(TRAINING_DATA)\n",
        "print(\"Training dataset uploaded. Catalog ID {}.\".format(dataset_id))\n",
        "model_info[\"datasets\"] = {\"trainingDataCatalogId\": dataset_id}\n",
        "\n",
        "# Create the model package\n",
        "print('Create model package')\n",
        "model_pkg_id = mlops_client.create_model_package(model_info)\n",
        "model_pkg = mlops_client.get_model_package(model_pkg_id)\n",
        "model_id = model_pkg[\"modelId\"]\n",
        "\n",
        "# Deploy the model package\n",
        "print('Deploy model package')\n",
        "deployment_id = mlops_client.deploy_model_package(model_pkg[\"id\"],\n",
        "                                                            DEPLOYMENT_NAME)\n",
        "\n",
        "# Enable data drift tracking\n",
        "print('Enable feature drift')\n",
        "enable_feature_drift = TRAINING_DATA is not None\n",
        "mlops_client.update_deployment_settings(deployment_id, target_drift=True,\n",
        "                                                  feature_drift=enable_feature_drift)\n",
        "_ = mlops_client.get_deployment_settings(deployment_id)\n",
        "\n",
        "print(\"\\nDone.\")\n",
        "print(\"DEPLOYMENT_ID=%s, MODEL_ID=%s\" % (deployment_id, model_id))\n",
        "\n",
        "DEPLOYMENT_ID = deployment_id\n",
        "MODEL_ID = model_id"
      ],
      "execution_count": 36,
      "outputs": [
        {
          "output_type": "stream",
          "text": [
            "Uploading training data - /content/odsc-ml-drum/data/boston_housing.csv. This may take some time...\n",
            "Training dataset uploaded. Catalog ID 5f9ab30deb01f601685bd4c4.\n",
            "Create model package\n",
            "Deploy model package\n",
            "Enable feature drift\n",
            "\n",
            "Done.\n",
            "DEPLOYMENT_ID=5f9ab330af091a01778bf76c, MODEL_ID=5f9ab32f8147d603e43e4405\n"
          ],
          "name": "stdout"
        }
      ]
    },
    {
      "cell_type": "code",
      "metadata": {
        "id": "k96KiRFiMrmn",
        "outputId": "38fe1797-a105-41f5-ae06-1f356bea9d8b",
        "colab": {
          "base_uri": "https://localhost:8080/",
          "height": 34
        }
      },
      "source": [
        "from IPython.core.display import display, HTML\n",
        "link = \"{}/deployments/{}/overview\".format(endpoint,deployment_id)\n",
        "display(HTML(\"\"\"<a href=\"{link}\">{link}</a>\"\"\".format( link=link )))"
      ],
      "execution_count": 37,
      "outputs": [
        {
          "output_type": "display_data",
          "data": {
            "text/html": [
              "<a href=\"https://app2.datarobot.com/deployments/5f9ab330af091a01778bf76c/overview\">https://app2.datarobot.com/deployments/5f9ab330af091a01778bf76c/overview</a>"
            ],
            "text/plain": [
              "<IPython.core.display.HTML object>"
            ]
          },
          "metadata": {
            "tags": []
          }
        }
      ]
    },
    {
      "cell_type": "markdown",
      "metadata": {
        "id": "F_sIji-jleSr"
      },
      "source": [
        "# Adding Monitoring with MLOps Monitoring Agents"
      ]
    },
    {
      "cell_type": "markdown",
      "metadata": {
        "id": "SbbfRWU1Mrmp"
      },
      "source": [
        "## Monitoring With DRUM\n",
        "\n",
        "There are a few addition parameters we should set for the command line utility, or we may just create environment variables, and allow the drum utility to pick up the details from there.  \n",
        "\n",
        "```\n",
        "  --monitor             Monitor predictions using DataRobot MLOps. True or\n",
        "                        False. (env: MONITOR).Monitoring can not be used in\n",
        "                        unstructured mode.\n",
        "  --deployment-id DEPLOYMENT_ID\n",
        "                        Deployment id to use for monitoring model predictions\n",
        "                        (env: DEPLOYMENT_ID)\n",
        "  --model-id MODEL_ID   MLOps model id to use for monitoring predictions (env:\n",
        "                        MODEL_ID)\n",
        "  --monitor-settings MONITOR_SETTINGS\n",
        "                        MLOps setting to use for connecting with the MLOps\n",
        "                        Agent (env: MONITOR_SETTINGS)\n",
        "```\n",
        "For today, we'll set environment variables to add monitoring. \n"
      ]
    },
    {
      "cell_type": "code",
      "metadata": {
        "id": "Uu23gamNMrmq"
      },
      "source": [
        "os.environ[\"MONITOR\"] = \"True\"\n",
        "os.environ[\"DEPLOYMENT_ID\"] = deployment_id\n",
        "os.environ[\"MODEL_ID\"] = model_id\n",
        "os.environ[\"MONITOR_SETTINGS\"] = \"spooler_type=filesystem;directory=/tmp/ta;max_files=5;file_max_size=1045876000\""
      ],
      "execution_count": 38,
      "outputs": []
    },
    {
      "cell_type": "code",
      "metadata": {
        "id": "Gs6kK8PKMrmr"
      },
      "source": [
        "run_inference_server = [\"drum\",\n",
        "              \"server\",\n",
        "              \"--code-dir\",\"/content/odsc-ml-drum/src/custom_model\", \n",
        "              \"--address\", \"0.0.0.0:43210\", \n",
        "              \"--show-perf\",\n",
        "              \"--target-type\", \"regression\",\n",
        "              \"--logging-level\", \"info\",\n",
        "              \"--show-stacktrace\",\n",
        "#               \"--verbose\"\n",
        "              ]"
      ],
      "execution_count": 42,
      "outputs": []
    },
    {
      "cell_type": "code",
      "metadata": {
        "id": "TkbK6OKbMrmt"
      },
      "source": [
        "inference_server_with_monitoring = subprocess.Popen(run_inference_server, stdout=subprocess.PIPE)"
      ],
      "execution_count": 43,
      "outputs": []
    },
    {
      "cell_type": "code",
      "metadata": {
        "id": "72S5ic_sMrmv"
      },
      "source": [
        "predictions = score(\n",
        "    pd.read_csv(\"/content/odsc-ml-drum/data/boston_housing.csv\").drop([\"MEDV\"],axis=1).head(100),\n",
        "    \"43210\")"
      ],
      "execution_count": 44,
      "outputs": []
    },
    {
      "cell_type": "code",
      "metadata": {
        "id": "pQA_TvN3Mrmx",
        "outputId": "14581755-6275-4445-c151-2bcbe0f07a48",
        "colab": {
          "base_uri": "https://localhost:8080/",
          "height": 204
        }
      },
      "source": [
        "pd.DataFrame(predictions.json()).head()"
      ],
      "execution_count": 45,
      "outputs": [
        {
          "output_type": "execute_result",
          "data": {
            "text/html": [
              "<div>\n",
              "<style scoped>\n",
              "    .dataframe tbody tr th:only-of-type {\n",
              "        vertical-align: middle;\n",
              "    }\n",
              "\n",
              "    .dataframe tbody tr th {\n",
              "        vertical-align: top;\n",
              "    }\n",
              "\n",
              "    .dataframe thead th {\n",
              "        text-align: right;\n",
              "    }\n",
              "</style>\n",
              "<table border=\"1\" class=\"dataframe\">\n",
              "  <thead>\n",
              "    <tr style=\"text-align: right;\">\n",
              "      <th></th>\n",
              "      <th>predictions</th>\n",
              "    </tr>\n",
              "  </thead>\n",
              "  <tbody>\n",
              "    <tr>\n",
              "      <th>0</th>\n",
              "      <td>27.610</td>\n",
              "    </tr>\n",
              "    <tr>\n",
              "      <th>1</th>\n",
              "      <td>21.630</td>\n",
              "    </tr>\n",
              "    <tr>\n",
              "      <th>2</th>\n",
              "      <td>34.870</td>\n",
              "    </tr>\n",
              "    <tr>\n",
              "      <th>3</th>\n",
              "      <td>33.765</td>\n",
              "    </tr>\n",
              "    <tr>\n",
              "      <th>4</th>\n",
              "      <td>35.265</td>\n",
              "    </tr>\n",
              "  </tbody>\n",
              "</table>\n",
              "</div>"
            ],
            "text/plain": [
              "   predictions\n",
              "0       27.610\n",
              "1       21.630\n",
              "2       34.870\n",
              "3       33.765\n",
              "4       35.265"
            ]
          },
          "metadata": {
            "tags": []
          },
          "execution_count": 45
        }
      ]
    },
    {
      "cell_type": "code",
      "metadata": {
        "id": "0LPPW7qsMrm0",
        "outputId": "2dc2e680-01a3-4103-bf1d-00af7b051ca6",
        "colab": {
          "base_uri": "https://localhost:8080/"
        }
      },
      "source": [
        "requests.post(\"http://localhost:43210/shutdown/\").content"
      ],
      "execution_count": 46,
      "outputs": [
        {
          "output_type": "execute_result",
          "data": {
            "text/plain": [
              "b'Server shutting down...'"
            ]
          },
          "metadata": {
            "tags": []
          },
          "execution_count": 46
        }
      ]
    },
    {
      "cell_type": "code",
      "metadata": {
        "id": "RDZ48oQFMrm3",
        "outputId": "74fb0b35-81be-40be-e352-7f370a692c14",
        "colab": {
          "base_uri": "https://localhost:8080/"
        }
      },
      "source": [
        "subprocess.call(\"../{}/bin/stop-agent.sh\".format(agents_dir))"
      ],
      "execution_count": 47,
      "outputs": [
        {
          "output_type": "execute_result",
          "data": {
            "text/plain": [
              "0"
            ]
          },
          "metadata": {
            "tags": []
          },
          "execution_count": 47
        }
      ]
    },
    {
      "cell_type": "code",
      "metadata": {
        "id": "EAM_HvAiMrm5",
        "outputId": "11749354-0fbb-4e2d-b0b2-5d3bf3328064",
        "colab": {
          "base_uri": "https://localhost:8080/"
        }
      },
      "source": [
        "## check that agent is stopped \n",
        "check = subprocess.Popen([\"../{}/bin/status-agent.sh\".format(agents_dir)], stdout=subprocess.PIPE)\n",
        "print(check.stdout.readlines())\n",
        "check.terminate()"
      ],
      "execution_count": 48,
      "outputs": [
        {
          "output_type": "stream",
          "text": [
            "[b'DataRobot MLOps-Agent is not running as a service.\\n']\n"
          ],
          "name": "stdout"
        }
      ]
    },
    {
      "cell_type": "code",
      "metadata": {
        "id": "Wg_6XXOmMrm8",
        "outputId": "b9f701c2-27fd-47db-d390-f07dd2362c18",
        "colab": {
          "base_uri": "https://localhost:8080/",
          "height": 34
        }
      },
      "source": [
        "display(HTML(\"\"\"<a href=\"{link}\">{link}</a>\"\"\".format( link=link )))"
      ],
      "execution_count": 49,
      "outputs": [
        {
          "output_type": "display_data",
          "data": {
            "text/html": [
              "<a href=\"https://app2.datarobot.com/deployments/5f9ab330af091a01778bf76c/overview\">https://app2.datarobot.com/deployments/5f9ab330af091a01778bf76c/overview</a>"
            ],
            "text/plain": [
              "<IPython.core.display.HTML object>"
            ]
          },
          "metadata": {
            "tags": []
          }
        }
      ]
    },
    {
      "cell_type": "code",
      "metadata": {
        "id": "6o_bqcGCMrnA",
        "outputId": "c84b6584-ced8-46f9-da94-c507752be4b4",
        "colab": {
          "base_uri": "https://localhost:8080/"
        }
      },
      "source": [
        "deployment = dr.Deployment.get(deployment_id)\n",
        "deployment.get_service_stats()"
      ],
      "execution_count": 50,
      "outputs": [
        {
          "output_type": "execute_result",
          "data": {
            "text/plain": [
              "ServiceStats(5f9ab32f8147d603e43e4405 | 2020-10-22 13:00:00+00:00 - 2020-10-29 13:00:00+00:00)"
            ]
          },
          "metadata": {
            "tags": []
          },
          "execution_count": 50
        }
      ]
    },
    {
      "cell_type": "code",
      "metadata": {
        "id": "6m5-5VUIMrnC",
        "outputId": "5053fab6-e3ed-4899-92ee-ec9bc5d34bc6",
        "colab": {
          "base_uri": "https://localhost:8080/"
        }
      },
      "source": [
        "service_stats = deployment.get_service_stats()\n",
        "service_stats.metrics"
      ],
      "execution_count": 51,
      "outputs": [
        {
          "output_type": "execute_result",
          "data": {
            "text/plain": [
              "{'cacheHitRatio': 0,\n",
              " 'executionTime': 14.751672744751,\n",
              " 'medianLoad': 0,\n",
              " 'numConsumers': 1,\n",
              " 'peakLoad': 1,\n",
              " 'responseTime': 0,\n",
              " 'serverErrorRate': 0,\n",
              " 'slowRequests': 0,\n",
              " 'totalPredictions': 100,\n",
              " 'totalRequests': 1,\n",
              " 'userErrorRate': 0}"
            ]
          },
          "metadata": {
            "tags": []
          },
          "execution_count": 51
        }
      ]
    }
  ]
}